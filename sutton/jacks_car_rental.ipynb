{
 "cells": [
  {
   "cell_type": "markdown",
   "id": "ec4cc16c",
   "metadata": {},
   "source": [
    "## 4.3 Policy Iteration\n",
    "\n",
    "Jack manages two locations for a nationwide car rental company. Each day, some number of customers arrive at each location to rent cars. If Jack has a car available, he rents it out and is credited 10 dollars by the national company. If he is out of cars at that location, then the business is lost. Cars become available for renting the day after they are returned. To help ensure that cars are avialable when they are needed, Jack can move them between the two locations overnight, at a cost of 2 dollars per car moved. We assume that the number of cars requested and returned at each location are Poisson random variables, meaning that the probability that the number if $n$ is $\\frac {\\lambda^n} {n!} e^{-\\lambda}$, where $\\lambda$ is the expected number. Suppose $\\lambda$ is 3 and 4 for rental requests at the first and second locations and 3 and 2 for returns. To simplify the problem slightly, we assume that there can be no more than 20 cars at each location (any additional cars are returned to the nationwide company, and thus disappear from the problem) and a maximum of five cars can be moved from one location to the other in one night. We take the discount rate to be $\\gamma = 0.9$ and formulate this as a continuing finie MDP, where the time steps are days, the state is the number of cars at each location at the end of the day, and the actions are the net numbers of cars moved between the two locations overnight.\n",
    "\n",
    "### Exercise 4.7:\n",
    "\n",
    "Write a program for policy iteration and re-solve Jac's car rental problem with the following changes. One of Jack's employees at the first location rides a bus home each night and lives near the second location. She is happy to shuttle one car to the second location for free. Each additional car still costs 2.00 dollars, as do all cars moved in the other direction. In addition, Jack has limited parking space at each location. If more than 10 cars are kept overnight at a location (after any moving of cars), then an additional cost of 4 dollars must be incurred to use a second parking lot (independent of how many cars are kept there). These sorts of nonlinearities and arbitrary dynamics often occur in real problems and cannot easily be handled by optimization methods other than dynamic programming. To check your rogram, first replicate the results given for the original problem."
   ]
  },
  {
   "cell_type": "code",
   "execution_count": 1,
   "id": "274fb73d",
   "metadata": {},
   "outputs": [],
   "source": [
    "import math\n",
    "import matplotlib.pyplot as plt\n",
    "import numpy as np"
   ]
  },
  {
   "cell_type": "markdown",
   "id": "f7da4e66",
   "metadata": {},
   "source": [
    "## The Poisson Distribution\n",
    "\n",
    "First, we will define a pmf for the Poisson distribution. This will be useful for defining other things throughout the problem.\n",
    "\n",
    "$$\n",
    "f(k;\\lambda) = \\frac {\\lambda^ke^{-\\lambda}} {k!}\n",
    "$$\n",
    "\n"
   ]
  },
  {
   "cell_type": "code",
   "execution_count": 2,
   "id": "3cb6ad15",
   "metadata": {},
   "outputs": [],
   "source": [
    "\n",
    "def factorial(n):\n",
    "    r = 1\n",
    "\n",
    "    for i in range(1, n + 1):\n",
    "        r *= i\n",
    "\n",
    "    return r\n",
    "\n",
    "\n",
    "def poisson_pmf(lambd, k):\n",
    "    \"\"\"\n",
    "    Compute the poisson probability of k events happening within the time interval lambda.\n",
    "    \"\"\"\n",
    "    return pow(lambd, k) * math.exp(-lambd) / factorial(k)\n"
   ]
  },
  {
   "cell_type": "code",
   "execution_count": 3,
   "id": "e80fc49a",
   "metadata": {},
   "outputs": [
    {
     "name": "stdout",
     "output_type": "stream",
     "text": [
      "The probability that an event happens 10 or less times is 0.9997262831771443\n"
     ]
    },
    {
     "data": {
      "image/png": "[encoded data removed]",
      "text/plain": [
       "<Figure size 432x288 with 1 Axes>"
      ]
     },
     "metadata": {
      "needs_background": "light"
     },
     "output_type": "display_data"
    }
   ],
   "source": [
    "poisson_samples = [poisson_pmf(4.0, i) for i in range(0, 13)]\n",
    "\n",
    "plt.plot(poisson_samples)\n",
    "\n",
    "print(\"The probability that an event happens 10 or less times is %s\" % (np.sum(poisson_samples)))\n"
   ]
  },
  {
   "cell_type": "markdown",
   "id": "c054a034",
   "metadata": {},
   "source": [
    "Note that above, we compute the Poisson Distribution (with $\\lambda = 4$) from k = 0 to 15. The cumalitive probability of an event happening at most 15 times with our given lambda is 99.9%. Because the Poisson distribution is defined up to Infinity, we need a reasonable cut-off point to estimate the probability distributions that we are using. For that reason, we will cut our Poisson calculations at 15. To make sure that probabilities still add up to 1, we will redistribute our distribute by setting a denominator to be the total probability of k <= 15. In addition, because we know that we want the Poisson distributions for $\\lambda$ 2, 3, and 4, we will pre-compute those values here."
   ]
  },
  {
   "cell_type": "code",
   "execution_count": 4,
   "id": "d75c97dc",
   "metadata": {},
   "outputs": [
    {
     "data": {
      "text/plain": [
       "(0.9989032810321414, 0.9880954961436427, 0.9488663842071525)"
      ]
     },
     "execution_count": 4,
     "metadata": {},
     "output_type": "execute_result"
    }
   ],
   "source": [
    "# Because Poisson is defined up to Infinity, but the vast majority of\n",
    "# probability density is clustered at lower values, we estimate the\n",
    "# distribution by computing up to some max number for our poisson outcome and\n",
    "# dividing by the total density to ensure that all our probabilities add to 1.\n",
    "#\n",
    "# When choosing the poisson cutoff number (defined below), there is a trade-off\n",
    "# between how accurately we our simulating the Poisson distribution and how\n",
    "# efficient our algorithm is.\n",
    "\n",
    "POISSON_COUNT=8\n",
    "\n",
    "poisson_pmf_2 = np.array([poisson_pmf(2.0, i) for i in range(0, POISSON_COUNT)])\n",
    "poisson_pmf_3 = np.array([poisson_pmf(3.0, i) for i in range(0, POISSON_COUNT)])\n",
    "poisson_pmf_4 = np.array([poisson_pmf(4.0, i) for i in range(0, POISSON_COUNT)])\n",
    "\n",
    "original_sum_2 = np.sum(poisson_pmf_2)\n",
    "original_sum_3 = np.sum(poisson_pmf_3)\n",
    "original_sum_4 = np.sum(poisson_pmf_4)\n",
    "\n",
    "poisson_pmf_2 /= np.sum(poisson_pmf_2)\n",
    "poisson_pmf_3 /= np.sum(poisson_pmf_3)\n",
    "poisson_pmf_4 /= np.sum(poisson_pmf_4)\n",
    "\n",
    "# From the PMF values, let us compute the CDF values as well. It is easier to\n",
    "# work with CDF's when calculating probability from a uniform random\n",
    "# number generator.\n",
    "poisson_cdf_2 = np.array(poisson_pmf_2)\n",
    "poisson_cdf_3 = np.array(poisson_pmf_3)\n",
    "poisson_cdf_4 = np.array(poisson_pmf_4)\n",
    "\n",
    "for i in range(1, POISSON_COUNT):\n",
    "    poisson_cdf_2[i] += poisson_cdf_2[i-1]\n",
    "    poisson_cdf_3[i] += poisson_cdf_3[i-1]\n",
    "    poisson_cdf_4[i] += poisson_cdf_4[i-1]\n",
    "\n",
    "\n",
    "original_sum_2, original_sum_3, original_sum_4\n",
    "\n"
   ]
  },
  {
   "cell_type": "code",
   "execution_count": 5,
   "id": "8c6e63cd",
   "metadata": {},
   "outputs": [
    {
     "data": {
      "text/plain": [
       "array([[1., 7., 5., 0.],\n",
       "       [1., 7., 5., 1.],\n",
       "       [1., 7., 5., 2.],\n",
       "       [1., 7., 5., 3.],\n",
       "       [1., 7., 5., 4.],\n",
       "       [1., 7., 5., 5.],\n",
       "       [1., 7., 5., 6.],\n",
       "       [1., 7., 5., 7.],\n",
       "       [1., 7., 6., 0.],\n",
       "       [1., 7., 6., 1.]])"
      ]
     },
     "execution_count": 5,
     "metadata": {},
     "output_type": "execute_result"
    }
   ],
   "source": [
    "# We will also pre-compute the possible Poisson outcomes.\n",
    "\n",
    "NUM_POISSON_POSSIBILITIES = POISSON_COUNT * POISSON_COUNT * POISSON_COUNT * POISSON_COUNT\n",
    "\n",
    "poisson_outcomes = np.zeros((NUM_POISSON_POSSIBILITIES, 4))\n",
    "poisson_joint_probs = np.ones(NUM_POISSON_POSSIBILITIES)\n",
    "\n",
    "for i in range(POISSON_COUNT):\n",
    "    index_i = i * POISSON_COUNT * POISSON_COUNT * POISSON_COUNT\n",
    "\n",
    "    for j in range(POISSON_COUNT):\n",
    "        index_j = index_i  + (j * POISSON_COUNT * POISSON_COUNT)\n",
    "\n",
    "        for k in range(POISSON_COUNT):\n",
    "            index_k = index_j + (k * POISSON_COUNT)\n",
    "\n",
    "            for l in range (POISSON_COUNT):\n",
    "                index = index_k + l\n",
    "\n",
    "                poisson_outcomes[index, :] = [i, j, k, l]\n",
    "                poisson_joint_probs[index] = poisson_pmf_3[i] * poisson_pmf_2[j] * poisson_pmf_3[k] * poisson_pmf_4[l]   # Rentals B\n",
    "\n",
    "\n",
    "poisson_outcomes[1000:1010, :]"
   ]
  },
  {
   "cell_type": "code",
   "execution_count": 6,
   "id": "bf0267df",
   "metadata": {},
   "outputs": [],
   "source": [
    "# Sanity Check: Make sure that the poisson pmf's are summing to 1.\n",
    "\n",
    "DELTA = 1e-5\n",
    "\n",
    "assert(abs(np.sum(poisson_pmf_2) - 1.0) < DELTA)\n",
    "assert(abs(np.sum(poisson_pmf_3) - 1.0) < DELTA)\n",
    "assert(abs(np.sum(poisson_pmf_4) - 1.0) < DELTA)\n",
    "\n",
    "# Sanity Check: Make sure the sum of all join probabilities is 1. \n",
    "\n",
    "assert(abs(np.sum(poisson_joint_probs) - 1.0) < DELTA)\n",
    "\n",
    "\n"
   ]
  },
  {
   "cell_type": "code",
   "execution_count": 45,
   "id": "d0c373c0",
   "metadata": {},
   "outputs": [],
   "source": [
    "def choose_poisson(cdf, n):\n",
    "    random_values = np.random.rand(n)\n",
    "    choices = np.zeros(n)\n",
    "    choice_masks = random_values > cdf[0]\n",
    "\n",
    "    for i in range(1, POISSON_COUNT):\n",
    "        choose_this_outcome = choice_masks & (random_values <= cdf[i])\n",
    "        choice_masks &= ~choose_this_outcome\n",
    "        choices += (choose_this_outcome * i)\n",
    "\n",
    "    return choices\n"
   ]
  },
  {
   "cell_type": "code",
   "execution_count": 62,
   "id": "9274f6f2",
   "metadata": {},
   "outputs": [],
   "source": [
    "# Sanity Check: Choosing samples from a Poisson distribution gives\n",
    "# reasonable results.\n",
    "\n",
    "choices = choose_poisson(poisson_cdf_2, 10000)\n",
    "\n",
    "assert np.max(choices) <= POISSON_COUNT - 1\n",
    "assert np.min(choices) >= 0\n",
    "\n"
   ]
  },
  {
   "cell_type": "markdown",
   "id": "41463976",
   "metadata": {},
   "source": [
    "## Pre-Computing the Rental / Return Possibilities for Each Day\n",
    "\n",
    "During each day, a certain number of cars are rented and returned at each location. Because we are setting a max possibility for our Poisson outcomes, there is a finite number of possible rental / return scenarios. Each rental / return scenario\n",
    "also yields a reward -- revenue from cars returned. We will represent this as a 4-dimensional matrix of possibilities -- the dimensions are (1) returns at location A, (2) returns at location B, (3) rentals at location A, (4) rentals at location B, and the element at the position of the matrix is the probability of that particular outcome.\n"
   ]
  },
  {
   "cell_type": "code",
   "execution_count": 7,
   "id": "320fe40f",
   "metadata": {},
   "outputs": [
    {
     "data": {
      "text/plain": [
       "(4096, 0.9999999999999999)"
      ]
     },
     "execution_count": 7,
     "metadata": {},
     "output_type": "execute_result"
    }
   ],
   "source": [
    "poisson_matrix = np.ones((POISSON_COUNT, POISSON_COUNT, POISSON_COUNT, POISSON_COUNT))\n",
    "\n",
    "for i in range(0, POISSON_COUNT):\n",
    "    for j in range(0, POISSON_COUNT):\n",
    "        for k in range(0, POISSON_COUNT):\n",
    "            poisson_matrix[:, i, j, k] *= poisson_pmf_3 # Returns @ A\n",
    "            poisson_matrix[i, :, j, k] *= poisson_pmf_4 # Returns @ B\n",
    "            poisson_matrix[i, j, :, k] *= poisson_pmf_3 # Rentals @ A\n",
    "            poisson_matrix[i, j, k, :] *= poisson_pmf_2 # Rentals @ B\n",
    "\n",
    "np.prod(np.shape(poisson_matrix)), np.sum(poisson_matrix[:])\n",
    "\n",
    "\n"
   ]
  },
  {
   "cell_type": "code",
   "execution_count": 8,
   "id": "9d8a5bfb",
   "metadata": {},
   "outputs": [
    {
     "data": {
      "text/plain": [
       "array([[1., 0., 0.],\n",
       "       [1., 0., 0.],\n",
       "       [1., 0., 0.],\n",
       "       [1., 0., 0.],\n",
       "       [1., 0., 0.],\n",
       "       [1., 0., 0.],\n",
       "       [1., 0., 0.],\n",
       "       [1., 0., 0.],\n",
       "       [1., 0., 0.],\n",
       "       [1., 0., 0.]])"
      ]
     },
     "execution_count": 8,
     "metadata": {},
     "output_type": "execute_result"
    }
   ],
   "source": [
    "np.concatenate([np.ones((10, 1)), np.zeros((10, 2))], axis=1)"
   ]
  },
  {
   "cell_type": "code",
   "execution_count": 9,
   "id": "e848f84c",
   "metadata": {},
   "outputs": [],
   "source": [
    "# A quick sanity check: Need to validate that the sum of all elements in the matrix is 1 (the probability of any possibility happening).\n",
    "DELTA = 1e-5\n",
    "\n",
    "assert(np.abs(np.sum(poisson_matrix[:]) - 1) < DELTA)"
   ]
  },
  {
   "cell_type": "markdown",
   "id": "fe831c9b",
   "metadata": {},
   "source": [
    "## The Original Problem\n",
    "\n",
    "Let's start by solving the original problem, and verify that we get the same solution described in the book.\n",
    "\n",
    "First, we need to correctly model the problem in terms of the value functions and probability distributions.\n",
    "\n",
    "- The possible states are the number of cars at each location, which is no more than 20. That means a total of 21 * 21 = 441 states.\n",
    "- There are at most 6 possible actions from each state (moving up to 5 cars from one location to another). Note that we ignore strictly dominated actions, such as moving 3 cars from location A to location B and 3 cars from location B to location A, which is strictly worse than not moving any cars at all.\n",
    "- The reward per day is the amount earned from rentals minus the cost of moving cars from the night before.\n",
    "\n",
    "We need to know the full probabilty distribution $p(s', r | s, a)$. So for each state-action pair, we need the probability of each state-reward pair.\n",
    "- There are 441 states, each containing at most 11 actions, so there is an upper limit of 441 * 11 = 4851 state-action pairs.\n",
    "- For each state-action pair, we need the probability of any possible target state, reward pair.\n",
    "- This number will start to get large, so we will define a function that, given a state-action pair, will compute a sequence of probability, next state, reward triples.\n",
    "\n",
    "### Defining Utility Functions\n",
    "\n"
   ]
  },
  {
   "cell_type": "code",
   "execution_count": 10,
   "id": "45539edf",
   "metadata": {},
   "outputs": [],
   "source": [
    "# Important constants we will use throughout the remainder of the notebook.\n",
    "MAX_CARS_PER_LOCATION = 20\n",
    "COST_PER_CAR_MOVED = 2\n",
    "REVENUE_PER_CAR_RENTED = 10\n",
    "MAX_MOVES_DAILY = 5\n",
    "\n",
    "ALL_STATES = np.zeros(((MAX_CARS_PER_LOCATION + 1) * (MAX_CARS_PER_LOCATION + 1), 2)).astype(int)\n",
    "\n",
    "for i in range(0, MAX_CARS_PER_LOCATION + 1):\n",
    "    for j in range(0, MAX_CARS_PER_LOCATION + 1):\n",
    "        ALL_STATES[i * (MAX_CARS_PER_LOCATION + 1) + j, :] = [i, j]\n"
   ]
  },
  {
   "cell_type": "code",
   "execution_count": 11,
   "id": "25d569b2",
   "metadata": {},
   "outputs": [],
   "source": [
    "def state_for_index(indices):\n",
    "    if np.shape(indices) == ():\n",
    "        cars_b = indices % (MAX_CARS_PER_LOCATION + 1)\n",
    "        cars_a = int((indices - cars_b) / (MAX_CARS_PER_LOCATION + 1))\n",
    "        return (cars_a, cars_b)\n",
    "\n",
    "    cars_b = indices % (MAX_CARS_PER_LOCATION + 1)\n",
    "    cars_a = (indices - cars_b) / (MAX_CARS_PER_LOCATION + 1)\n",
    "    return np.concatenate([cars_a, cars_b], axis=-1)\n",
    "\n",
    "\n",
    "def index_for_state(states):\n",
    "    if np.shape(states) == (2,):\n",
    "        return (MAX_CARS_PER_LOCATION + 1) * states[0] + states[1]\n",
    "    \n",
    "    return ((MAX_CARS_PER_LOCATION + 1) * states[:, 0] + states[:, 1]).astype(int)\n"
   ]
  },
  {
   "cell_type": "code",
   "execution_count": 12,
   "id": "60ef5fe3",
   "metadata": {},
   "outputs": [],
   "source": [
    "# TODO: Make these utilities vectorized compatible.\n",
    "\n",
    "# Actions can take on values between -MAX_MOVES_DAILY and MAX_MOVES_DAILY.\n",
    "\n",
    "ACTION_ARRAY_LEN = 2 * MAX_MOVES_DAILY + 1\n",
    "\n",
    "def index_for_action(action):\n",
    "    assert(abs(action) <= MAX_MOVES_DAILY)\n",
    "    return action + MAX_MOVES_DAILY\n",
    "\n",
    "\n",
    "def action_for_index(index):\n",
    "    assert(index >= 0 and index < ACTION_ARRAY_LEN)\n",
    "    return index - MAX_MOVES_DAILY\n"
   ]
  },
  {
   "cell_type": "code",
   "execution_count": 13,
   "id": "cd7f4ccf",
   "metadata": {},
   "outputs": [],
   "source": [
    "# Let's calculate a set of possible actions given the current state.\n",
    "\n",
    "def possible_actions(state):\n",
    "    cars_a, cars_b = state\n",
    "    min_action = -min(cars_b, MAX_MOVES_DAILY)\n",
    "    max_action = min(cars_a, MAX_MOVES_DAILY)\n",
    "    return range(min_action, max_action + 1)\n"
   ]
  },
  {
   "cell_type": "code",
   "execution_count": 14,
   "id": "6946bd24",
   "metadata": {},
   "outputs": [],
   "source": [
    "# Let's precalculate the set of possible actions that an agent can take at\n",
    "# any given state. We will define this as a 3D matrix, where the dimensions\n",
    "# are [cars_a, cars_b, action_index] and each entry in the matrix is a 1 or 0,\n",
    "# indicating if that particular action can be taken given the number of cars\n",
    "# at locations A and B.\n",
    "possible_actions_matrix = np.zeros((len(ALL_STATES), ACTION_ARRAY_LEN))\n",
    "\n",
    "for i in range(len(ALL_STATES)):\n",
    "    actions = possible_actions(ALL_STATES[i, :])\n",
    "    action_indices = [index_for_action(action) for action in actions]\n",
    "    possible_actions_matrix[i, action_indices] = 1\n"
   ]
  },
  {
   "cell_type": "code",
   "execution_count": 15,
   "id": "5e636c70",
   "metadata": {},
   "outputs": [],
   "source": [
    "# Sanity Check: Test a few entries in the possible actions matrix to make sure\n",
    "# they are correct.\n",
    "\n",
    "assert possible_actions_matrix[index_for_state((0, 0)), index_for_action(0)] == 1\n",
    "assert possible_actions_matrix[index_for_state((20, 20)), index_for_action(5)] == 1\n",
    "assert possible_actions_matrix[index_for_state((2, 2)), index_for_action(3)] == 0"
   ]
  },
  {
   "cell_type": "code",
   "execution_count": 16,
   "id": "c37b93c8",
   "metadata": {},
   "outputs": [],
   "source": [
    "def perform_action(state, action):\n",
    "    \"\"\"\n",
    "    \"\"\"\n",
    "    assert(abs(action) <= MAX_MOVES_DAILY)\n",
    "\n",
    "    # Start by moving cars overnight. This is deterministic. We are assuming\n",
    "    # all actions are valid.\n",
    "\n",
    "    cars_a = min(MAX_CARS_PER_LOCATION, state[0] + action)\n",
    "    cars_b = min(MAX_CARS_PER_LOCATION, state[1] - action)\n",
    "\n",
    "    # The following day, a certain number of cars are rented, and a certain\n",
    "    # number are returned to / from each location. We are fully quantifying\n",
    "    # over the entire join distribution of rentals and returns at each\n",
    "    # location.\n",
    "\n",
    "    # NOTE: We are assuming that cars that all the returns on a particular day\n",
    "    # happen before the rentals for that day.\n",
    "\n",
    "    poisson_delta_a = np.reshape(poisson_outcomes[:, 0] - poisson_outcomes[:, 2], (-1, 1))\n",
    "    poisson_delta_b = np.reshape(poisson_outcomes[:, 1] - poisson_outcomes[:, 3], (-1, 1))\n",
    "\n",
    "    # Calculate the next states for each poisson outcome.\n",
    "    next_states = np.concatenate([poisson_delta_a, poisson_delta_b], axis=1)\n",
    "    next_states[:, 0] += cars_a\n",
    "    next_states[:, 1] += cars_b\n",
    "    next_states = np.maximum(0, np.minimum(MAX_CARS_PER_LOCATION, next_states))\n",
    "\n",
    "    # Figure out the total number of rentals for each poisson outcome. We\n",
    "    # need to account for the fact that a location may not have enough cars to\n",
    "    # fulfill all rental requests for the day. A location is paid based on the\n",
    "    # number of fulfilled rentals, not on the number of rental requests.\n",
    "    total_rentals_a = np.minimum(poisson_outcomes[:, 2], poisson_outcomes[:, 0] + cars_a)\n",
    "    total_rentals_b = np.minimum(poisson_outcomes[:, 3], poisson_outcomes[:, 1] + cars_b)\n",
    "\n",
    "    # Figure out the total reward for each Poisson outcome.\n",
    "    rewards = np.zeros(len(next_states))\n",
    "    rewards[:] = -abs(action) * COST_PER_CAR_MOVED\n",
    "    rewards += (total_rentals_a + total_rentals_b) * REVENUE_PER_CAR_RENTED\n",
    "\n",
    "    return next_states, rewards\n"
   ]
  },
  {
   "cell_type": "code",
   "execution_count": 17,
   "id": "06d045a8",
   "metadata": {},
   "outputs": [],
   "source": [
    "# Sanity Check: Make sure that the shape of the result of performing an action is correct.\n",
    "\n",
    "next_states, rewards = perform_action((2, 2), 2)\n",
    "\n",
    "assert np.shape(next_states) == (len(poisson_outcomes), 2)\n",
    "assert np.shape(rewards) == (len(poisson_outcomes),)\n"
   ]
  },
  {
   "cell_type": "code",
   "execution_count": 18,
   "id": "fbf0c6fb",
   "metadata": {},
   "outputs": [],
   "source": [
    "def expected_reward(rewards):\n",
    "    \"\"\"\n",
    "    \"\"\"\n",
    "    return np.sum(poisson_joint_probs * rewards)"
   ]
  },
  {
   "cell_type": "code",
   "execution_count": 19,
   "id": "94ff1de2",
   "metadata": {},
   "outputs": [],
   "source": [
    "# Let's try performing an action on a demo state and inspect the resulting\n",
    "# possible outcomes.\n",
    "\n",
    "_, rewards1 = perform_action((2, 2), 2)\n",
    "_, rewards2 = perform_action((5, 5), 2)\n",
    "_, rewards3 = perform_action((10, 10), 2)\n",
    "\n",
    "# Sanity check: The expected when there are more cars at both locations should\n",
    "# be more since we have more cars to rent out.\n",
    "\n",
    "exp1 = expected_reward(rewards1)\n",
    "exp2 = expected_reward(rewards2)\n",
    "exp3 = expected_reward(rewards3)\n",
    "\n",
    "assert exp2 > exp1\n",
    "assert exp3 > exp2\n"
   ]
  },
  {
   "cell_type": "markdown",
   "id": "34de6967",
   "metadata": {},
   "source": [
    "### Defining an Agent / Policy\n",
    "\n",
    "Let's start by defining a basic agent that can:\n",
    "- Observe the current state (# cars at each location)\n",
    "- Pick an action -- or pick probabilities on a set of actions -- to perform at that state (# cars to move between locations)\n",
    "\n",
    "Our initial agent will randomly choose from the set of all possible actions at\n",
    "each state."
   ]
  },
  {
   "cell_type": "code",
   "execution_count": 20,
   "id": "8952adf7",
   "metadata": {},
   "outputs": [],
   "source": [
    "class RandomAgent:\n",
    "    \"\"\"\n",
    "    An agent that randomly chooses between a set of all possible actions given\n",
    "    the current state.\n",
    "    \"\"\"\n",
    "\n",
    "    def policy(self, states):\n",
    "        \"\"\"\n",
    "        The policy takes the current states and, for each state, returns \n",
    "        the set of probabilities that the agent would take each action. This\n",
    "        is a vectorized operation, so if multiple states are provided, multiple\n",
    "        probability actions are returned.\n",
    "        \"\"\"\n",
    "        state_indices = index_for_state(states)\n",
    "        probs = possible_actions_matrix[state_indices, :]\n",
    "        possible_counts = np.reshape(np.sum(probs, axis=-1), (-1, 1))\n",
    "        probs /= possible_counts\n",
    "        return probs\n"
   ]
  },
  {
   "cell_type": "code",
   "execution_count": 21,
   "id": "22921aee",
   "metadata": {},
   "outputs": [],
   "source": [
    "# Sanity Check: Let's see that our agent is correctly returning policies\n",
    "# where the total probability of choosing an action sums to 1.\n",
    "\n",
    "agent = RandomAgent()\n",
    "probs = agent.policy(ALL_STATES)\n",
    "sum_probs = np.sum(probs, axis=-1)\n",
    "\n",
    "# Asserting that the sum of all probabilities are within 1e-5 from 1.\n",
    "assert np.sum(np.abs(sum_probs - 1) < 1e-5) == len(ALL_STATES)\n",
    "\n"
   ]
  },
  {
   "cell_type": "markdown",
   "id": "73a7e136",
   "metadata": {},
   "source": [
    "### Policy Evaluation\n",
    "\n",
    "Now that we have a working agent, let's evaluate it. We will use the Bellman Equations to derive the value function for this agent, but also define an evaluation algorithm that will work for evaluating general agents / policies.\n",
    "\n",
    "$$\\large v(s) \\leftarrow \\sum_a \\pi(a | s) \\sum_{s', r} p(s', r | s, a)[r + \\gamma v(s')]$$\n",
    "\n",
    "\n",
    "Because each location has at most 20 cars, we have 21 * 21 = 441 possible states that we need values for (including the case of 0 cars at either location). We will define our value function as a 21x21 matrix, where each entry is the value for a particular number of cars.\n",
    "\n",
    "Section 4.1 in the Sutton textbook describes the algorithm for evaluating a policy. We implement the in-place version of the algorithm because it is simpler, often converges faster, and is more memory-efficient."
   ]
  },
  {
   "cell_type": "code",
   "execution_count": 22,
   "id": "e154784a",
   "metadata": {},
   "outputs": [],
   "source": [
    "def evaluate_agent_policy(agent, discount, max_k):\n",
    "    \"\"\"\n",
    "    Given an agent, evaluate that agent's policy. This returns the values\n",
    "    for each state given the policy and the number of iterations it took\n",
    "    to converge.\n",
    "    \"\"\" \n",
    "\n",
    "    state_values = np.zeros(len(ALL_STATES))\n",
    "\n",
    "    k = 0\n",
    "    max_delta = float('inf')\n",
    "\n",
    "    while k < max_k:\n",
    "        max_delta = 0\n",
    "\n",
    "        print(f\"Starting iteration {k}\")\n",
    "\n",
    "        action_probs = agent.policy(ALL_STATES)\n",
    "\n",
    "        assert len(action_probs) == len(ALL_STATES)\n",
    "\n",
    "        # PERF: This part of the computation is slow. For each state, computing\n",
    "        # all possible actions from that state by the agent, and for each\n",
    "        # of those actions, collecting the full join poisson distribution.\n",
    "        for i in range(len(ALL_STATES)):\n",
    "            for action_index in range(ACTION_ARRAY_LEN):\n",
    "                action_prob = action_probs[i, action_index]\n",
    "                if action_prob == 0: continue\n",
    "\n",
    "                state = ALL_STATES[i, :]\n",
    "                action = action_for_index(action_index)\n",
    "                next_states, rewards = perform_action(state, action)\n",
    "                next_state_indices = index_for_state(next_states)\n",
    "                next_state_values = state_values[next_state_indices]\n",
    "\n",
    "                new_value = np.sum(poisson_joint_probs * poisson_joint_probs * (rewards + discount * next_state_values))\n",
    "                state_values[i] = new_value\n",
    "\n",
    "        print(f\"Finished iteration {k}\")\n",
    "\n",
    "        k += 1\n",
    "\n",
    "\n",
    "    return np.reshape(state_values, (MAX_CARS_PER_LOCATION + 1, MAX_CARS_PER_LOCATION + 1), order='C')\n"
   ]
  },
  {
   "cell_type": "code",
   "execution_count": 23,
   "id": "d3ee009c",
   "metadata": {},
   "outputs": [
    {
     "data": {
      "text/plain": [
       "array([84, 84, 84, ..., 86, 85, 84])"
      ]
     },
     "execution_count": 23,
     "metadata": {},
     "output_type": "execute_result"
    }
   ],
   "source": [
    "nex_states, rewards = perform_action((2, 2), 2)\n",
    "index_for_state(next_states).astype(int)\n"
   ]
  },
  {
   "cell_type": "code",
   "execution_count": 24,
   "id": "d0ae56ea",
   "metadata": {},
   "outputs": [
    {
     "name": "stdout",
     "output_type": "stream",
     "text": [
      "Starting iteration 0\n",
      "Finished iteration 0\n",
      "Starting iteration 1\n",
      "Finished iteration 1\n",
      "Starting iteration 2\n",
      "Finished iteration 2\n",
      "Starting iteration 3\n",
      "Finished iteration 3\n"
     ]
    }
   ],
   "source": [
    "random_agent = RandomAgent()\n",
    "values = evaluate_agent_policy(random_agent, discount=0.9, max_k=4)"
   ]
  },
  {
   "cell_type": "markdown",
   "id": "01e9d115",
   "metadata": {},
   "source": [
    "## Simulating Agent Runs\n",
    "\n",
    "Let's create a program that takes an agent and a start state, then runs a simulation over *n* days of the agent moving cars and acquiring rewards from rentals."
   ]
  },
  {
   "cell_type": "code",
   "execution_count": 39,
   "id": "d125c7db",
   "metadata": {},
   "outputs": [],
   "source": [
    "def agent_choose_action(agent, states):\n",
    "    \"\"\"\n",
    "    Use the agent's policy to choose an action at the given state.\n",
    "    \"\"\"\n",
    "    probs = agent.policy(states)\n",
    "\n",
    "    # Choose an action for each state. The choice is a random number between\n",
    "    # 0 and 1 and we will use the policy probabilities to associate these\n",
    "    # random numbers with actions.\n",
    "    prob_choices = np.random.rand(len(states))\n",
    "\n",
    "    action_choices = np.zeros(len(states))\n",
    "\n",
    "    # Using the mask to keep track of which action choices have been locked\n",
    "    # in and which action choices we are still figuring out.\n",
    "    action_choice_masks = prob_choices > probs[:, 0]\n",
    "\n",
    "    for action_index in range(1, ACTION_ARRAY_LEN):\n",
    "        # Accumulating the probabilities. So the probability at the\n",
    "        # action index is now the probability that an action of that index\n",
    "        # or smaller index is chosen.\n",
    "        probs[:, action_index] += probs[:, action_index - 1]\n",
    "\n",
    "        # Of the action choices that have not yet been chosen, figure out\n",
    "        # which ones are associated with the current action index.\n",
    "        choose_current_action = action_choice_masks * (prob_choices <= probs[:, action_index])\n",
    "\n",
    "        action_choices = action_choices + (choose_current_action * action_index)\n",
    "\n",
    "        # Remove the actions that were chosen this pass from the set of\n",
    "        # actions left to choose.\n",
    "        action_choice_masks &= ~choose_current_action\n",
    "\n",
    "    # We have made an action choice for each state.\n",
    "    assert np.sum(action_choice_masks == 0) == len(action_choice_masks)\n",
    "\n",
    "    # Probabilities for agent policy on each state should sum to 1.\n",
    "    assert np.sum(np.abs(probs[:, -1] - 1.0) < 1e-5) == len(action_choice_masks)\n",
    "\n",
    "    return action_choices.astype(int)\n"
   ]
  },
  {
   "cell_type": "code",
   "execution_count": 43,
   "id": "72e33ec0",
   "metadata": {},
   "outputs": [],
   "source": [
    "# Sanity Check: Agent with deterministic policy will result in clear choice.\n",
    "\n",
    "class NeverMoveCarsAgent:\n",
    "    def policy(self, states):\n",
    "        action_index = index_for_action(0)\n",
    "        policy_matrix = np.zeros((len(states), ACTION_ARRAY_LEN))\n",
    "        policy_matrix[:, action_index] = 1.0\n",
    "        return policy_matrix\n",
    "\n",
    "\n",
    "choices1 = agent_choose_action(agent=NeverMoveCarsAgent(), states=ALL_STATES)\n",
    "\n",
    "assert np.sum(choices1 == index_for_action(0)) == len(choices1)\n",
    "\n",
    "# Sanity Check: Random agent correctly chooses actions. \n",
    "\n",
    "choices2 = agent_choose_action(agent=RandomAgent(), states=ALL_STATES)\n",
    "\n",
    "assert np.sum(choices2 < ACTION_ARRAY_LEN) == len(choices2)\n",
    "\n",
    "\n"
   ]
  },
  {
   "cell_type": "code",
   "execution_count": 63,
   "id": "7542305a",
   "metadata": {},
   "outputs": [],
   "source": [
    "def run_simulation(agent, samples, days, discount, initial_state=None):\n",
    "    \"\"\"\n",
    "    Runs a car rental service simulation for the given number of days with the\n",
    "    agent choosing which actions to take.\n",
    "\n",
    "    Can optionally specify an initial state. If the initial state is not\n",
    "    specified, it is randomly generated.\n",
    "\n",
    "    Returns a 2D matrix, where the first dimension in the sample number, and the\n",
    "    second entry is the total reward at the end of day n for the agent.\n",
    "    \"\"\" \n",
    "\n",
    "    rewards = np.zeros((samples, days))\n",
    "\n",
    "    if initial_state is None:\n",
    "        states = np.random.randint(MAX_CARS_PER_LOCATION, size=(samples, 2))\n",
    "    else:\n",
    "        a, b = initial_state\n",
    "        states = np.zeros((samples, 2))\n",
    "        states[:, 0] = a\n",
    "        states[:, 1] = b\n",
    "\n",
    "\n",
    "    for d in range(days):\n",
    "        choices = agent_choose_action(agent, states)\n",
    "        cars_moved = np.abs(choices - index_for_action(0))\n",
    "\n",
    "        today_rewards = -cars_moved * COST_PER_CAR_MOVED\n",
    "        returns_a = choose_poisson(poisson_cdf_3, samples)\n",
    "        returns_b = choose_poisson(poisson_cdf_2, samples)\n",
    "        rentals_a = choose_poisson(poisson_cdf_3, samples)\n",
    "        rentals_b = choose_poisson(poisson_cdf_4, samples)\n",
    "\n",
    "        true_rentals_a = np.minimum(rentals_a, states[:, 0] + returns_a)\n",
    "        true_rentals_b = np.minimum(rentals_b, states[:, 1] + returns_b)\n",
    "\n",
    "        states[:, 0] = np.minimum(states[:, 0] + returns_a - true_rentals_a, MAX_CARS_PER_LOCATION)\n",
    "        states[:, 1] = np.minimum(states[:, 1] + returns_b - true_rentals_b, MAX_CARS_PER_LOCATION)\n",
    "\n",
    "        today_rewards += (true_rentals_a + true_rentals_b) * REVENUE_PER_CAR_RENTED\n",
    "\n",
    "        rewards[:, d] = today_rewards\n",
    "\n",
    "    return rewards\n",
    "\n"
   ]
  },
  {
   "cell_type": "code",
   "execution_count": null,
   "id": "6c703173",
   "metadata": {},
   "outputs": [],
   "source": [
    "# HERE I AM: Just finished implementing the simulation code above. Need to test\n",
    "# it here. Would like various random agents going through multiple days of\n",
    "# car rentals."
   ]
  },
  {
   "cell_type": "markdown",
   "id": "83fdab8c",
   "metadata": {},
   "source": [
    "### Value-Based Agents And Policies\n",
    "\n",
    "Now that we have a way of evaluating an agent, let's define a new agent that follows the state evaluations provided. We will define a new agent whose policy greedily chooses action resulting in the best expected value.\n",
    "\n",
    "When our agent chooses the number of cars to move from one location to another, the outcome state is non-deterministic, since there is some randomness with the number of cars that are returned and returned at each location the next day. For that reason, we need to take the expectation over the non-deterministic outcome to figure out the best action to take."
   ]
  },
  {
   "cell_type": "code",
   "execution_count": 88,
   "id": "8200a248",
   "metadata": {},
   "outputs": [],
   "source": [
    "class ValueBasedAgent:\n",
    "    \"\"\"\n",
    "    An agent that greedily chooses the action that results in the highest\n",
    "    expected reward given the state values provided.\n",
    "    \"\"\"\n",
    "\n",
    "    def __init__(self, values):\n",
    "        self.values = values\n",
    "\n",
    "\n",
    "    def policy(self, state):\n",
    "        best_action_index = None\n",
    "        best_action_value = -float('inf')\n",
    "\n",
    "        for action in possible_actions(state):\n",
    "            outcomes = perform_action(state, action)\n",
    "            expectation = expected_reward(outcomes)\n",
    "\n",
    "            if expectation > best_action_value:\n",
    "                best_action_index = index_for_action(action)\n",
    "                best_action_value = expectation\n",
    "\n",
    "        assert(best_action_index is not None)\n",
    "\n",
    "        probs = np.zeros(ACTION_ARRAY_LEN)\n",
    "        probs[best_action_index] = 1.0\n",
    "        return probs\n"
   ]
  },
  {
   "cell_type": "code",
   "execution_count": 91,
   "id": "ac64d568",
   "metadata": {},
   "outputs": [
    {
     "name": "stdout",
     "output_type": "stream",
     "text": [
      "We have 10 cars in location A and 2 cars in location B. Our agent chooses to move 1 cars from location B to A.\n",
      "We have 19 cars in location A and 5 cars in location B. Our agent chooses to move 4 cars from location B to A.\n",
      "We have 14 cars in location A and 13 cars in location B. Our agent chooses to move 5 cars from location B to A.\n",
      "We have 17 cars in location A and 18 cars in location B. Our agent chooses to move 5 cars from location B to A.\n",
      "We have 3 cars in location A and 15 cars in location B. Our agent chooses to move 5 cars from location B to A.\n",
      "We have 16 cars in location A and 12 cars in location B. Our agent chooses to move 5 cars from location B to A.\n",
      "We have 15 cars in location A and 0 cars in location B. Our agent chooses to move 1 cars from location A to B.\n",
      "We have 13 cars in location A and 19 cars in location B. Our agent chooses to move 5 cars from location B to A.\n",
      "We have 4 cars in location A and 7 cars in location B. Our agent chooses to move 5 cars from location B to A.\n",
      "We have 4 cars in location A and 4 cars in location B. Our agent chooses to move 3 cars from location B to A.\n"
     ]
    }
   ],
   "source": [
    "NUM_RANDOM_TRIALS = 10\n",
    "\n",
    "trials = np.random.randint(MAX_CARS_PER_LOCATION, size=(NUM_RANDOM_TRIALS, 2))\n",
    "\n",
    "# Creating an agent from the values provided from evaluating the random\n",
    "# policy above.\n",
    "agent = ValueBasedAgent(values)\n",
    "\n",
    "for i in range(NUM_RANDOM_TRIALS):\n",
    "    cars_a, cars_b = trials[i, :]\n",
    "    probs = agent.policy((cars_a, cars_b))\n",
    "    action_index = np.argmax(probs)\n",
    "    action = action_for_index(action_index)\n",
    "\n",
    "    if action < 0:\n",
    "        move_from = \"B\"\n",
    "        move_to = \"A\"\n",
    "    else:\n",
    "        move_from = \"A\"\n",
    "        move_to = \"B\"\n",
    "\n",
    "    print(f\"We have {cars_a} cars in location A and {cars_b} cars in location B. Our agent chooses to move {abs(action)} cars from location {move_from} to {move_to}.\")\n",
    "\n"
   ]
  },
  {
   "cell_type": "code",
   "execution_count": 98,
   "id": "1774ed48",
   "metadata": {},
   "outputs": [
    {
     "data": {
      "text/plain": [
       "197.7794912264076"
      ]
     },
     "execution_count": 98,
     "metadata": {},
     "output_type": "execute_result"
    }
   ],
   "source": [
    "values[4, 1]"
   ]
  },
  {
   "cell_type": "code",
   "execution_count": null,
   "id": "f2aaeb7c",
   "metadata": {},
   "outputs": [],
   "source": []
  }
 ],
 "metadata": {
  "kernelspec": {
   "display_name": "Python 3.9.11 ('pokemon')",
   "language": "python",
   "name": "python3"
  },
  "language_info": {
   "codemirror_mode": {
    "name": "ipython",
    "version": 3
   },
   "file_extension": ".py",
   "mimetype": "text/x-python",
   "name": "python",
   "nbconvert_exporter": "python",
   "pygments_lexer": "ipython3",
   "version": "3.9.11"
  },
  "vscode": {
   "interpreter": {
    "hash": "a48e6b4bcafa8268e118fccfda0c48a06d8e2caa41bbf9444eeba1b7211069fd"
   }
  }
 },
 "nbformat": 4,
 "nbformat_minor": 5
}
