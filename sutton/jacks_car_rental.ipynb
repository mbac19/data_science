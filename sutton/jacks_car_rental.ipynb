{
 "cells": [
  {
   "cell_type": "markdown",
   "id": "ec4cc16c",
   "metadata": {},
   "source": [
    "## 4.3 Policy Iteration\n",
    "\n",
    "Jack manages two locations for a nationwide car rental company. Each day, some number of customers arrive at each location to rent cars. If Jack has a car available, he rents it out and is credited 10 dollars by the national company. If he is out of cars at that location, then the business is lost. Cars become available for renting the day after they are returned. To help ensure that cars are avialable when they are needed, Jack can move them between the two locations overnight, at a cost of 2 dollars per car moved. We assume that the number of cars requested and returned at each location are Poisson random variables, meaning that the probability that the number if $n$ is $\\frac {\\lambda^n} {n!} e^{-\\lambda}$, where $\\lambda$ is the expected number. Suppose $\\lambda$ is 3 and 4 for rental requests at the first and second locations and 3 and 2 for returns. To simplify the problem slightly, we assume that there can be no more than 20 cars at each location (any additional cars are returned to the nationwide company, and thus disappear from the problem) and a maximum of five cars can be moved from one location to the other in one night. We take the discount rate to be $\\gamma = 0.9$ and formulate this as a continuing finie MDP, where the time steps are days, the state is the number of cars at each location at the end of the day, and the actions are the net numbers of cars moved between the two locations overnight.\n",
    "\n",
    "### Exercise 4.7:\n",
    "\n",
    "Write a program for policy iteration and re-solve Jac's car rental problem with the following changes. One of Jack's employees at the first location rides a bus home each night and lives near the second location. She is happy to shuttle one car to the second location for free. Each additional car still costs 2.00 dollars, as do all cars moved in the other direction. In addition, Jack has limited parking space at each location. If more than 10 cars are kept overnight at a location (after any moving of cars), then an additional cost of 4 dollars must be incurred to use a second parking lot (independent of how many cars are kept there). These sorts of nonlinearities and arbitrary dynamics often occur in real problems and cannot easily be handled by optimization methods other than dynamic programming. To check your rogram, first replicate the results given for the original problem."
   ]
  },
  {
   "cell_type": "code",
   "execution_count": 5,
   "id": "274fb73d",
   "metadata": {},
   "outputs": [],
   "source": [
    "import math\n",
    "import matplotlib.pyplot as plt\n",
    "import numpy as np"
   ]
  },
  {
   "cell_type": "markdown",
   "id": "f7da4e66",
   "metadata": {},
   "source": [
    "## The Poisson Distribution\n",
    "\n",
    "First, we will define a pmf for the Poisson distribution. This will be useful for defining other things throughout the problem.\n",
    "\n",
    "$$\n",
    "f(k;\\lambda) = \\frac {\\lambda^ke^{-\\lambda}} {k!}\n",
    "$$\n",
    "\n"
   ]
  },
  {
   "cell_type": "code",
   "execution_count": 13,
   "id": "3cb6ad15",
   "metadata": {},
   "outputs": [],
   "source": [
    "\n",
    "def factorial(n):\n",
    "    r = 1\n",
    "\n",
    "    for i in range(1, n + 1):\n",
    "        r *= i\n",
    "\n",
    "    return r\n",
    "\n",
    "\n",
    "def poisson_pmf(lambd, k):\n",
    "    \"\"\"\n",
    "    Compute the poisson probability of k events happening within the time interval lambda.\n",
    "    \"\"\"\n",
    "    return pow(lambd, k) * math.exp(-lambd) / factorial(k)\n"
   ]
  },
  {
   "cell_type": "code",
   "execution_count": 17,
   "id": "e80fc49a",
   "metadata": {},
   "outputs": [
    {
     "name": "stdout",
     "output_type": "stream",
     "text": [
      "The probability that an event happens 10 or less times is 0.9997262831771443\n"
     ]
    },
    {
     "data": {
      "image/png": "[encoded data removed]",
      "text/plain": [
       "<Figure size 432x288 with 1 Axes>"
      ]
     },
     "metadata": {
      "needs_background": "light"
     },
     "output_type": "display_data"
    }
   ],
   "source": [
    "poisson_samples = [poisson_pmf(4.0, i) for i in range(0, 13)]\n",
    "\n",
    "plt.plot(poisson_samples)\n",
    "\n",
    "print(\"The probability that an event happens 10 or less times is %s\" % (np.sum(poisson_samples)))\n"
   ]
  },
  {
   "cell_type": "markdown",
   "id": "c054a034",
   "metadata": {},
   "source": [
    "Note that above, we compute the Poisson Distribution (with $\\lambda = 4$) from k = 0 to 15. The cumalitive probability of an event happening at most 15 times with our given lambda is 99.9%. Because the Poisson distribution is defined up to Infinity, we need a reasonable cut-off point to estimate the probability distributions that we are using. For that reason, we will cut our Poisson calculations at 15. To make sure that probabilities still add up to 1, we will redistribute our distribute by setting a denominator to be the total probability of k <= 15. In addition, because we know that we want the Poisson distributions for $\\lambda$ 2, 3, and 4, we will pre-compute those values here."
   ]
  },
  {
   "cell_type": "code",
   "execution_count": 19,
   "id": "d75c97dc",
   "metadata": {},
   "outputs": [],
   "source": [
    "# Because Poisson is defined up to Infinity, but the vast majority of\n",
    "# probability density is clustered at lower values, we estimate the\n",
    "# distribution by computing up to 15 and dividing by the total density to ensure\n",
    "# that all our probabilities add to 1.\n",
    "\n",
    "poisson_2 = np.array([poisson_pmf(2.0, i) for i in range(0, 16)])\n",
    "poisson_3 = np.array([poisson_pmf(3.0, i) for i in range(0, 16)])\n",
    "poisson_4 = np.array([poisson_pmf(4.0, i) for i in range(0, 16)])\n",
    "\n",
    "poisson_2 /= np.sum(poisson_2)\n",
    "poisson_3 /= np.sum(poisson_3)\n",
    "poisson_4 /= np.sum(poisson_4)"
   ]
  },
  {
   "cell_type": "markdown",
   "id": "fe831c9b",
   "metadata": {},
   "source": [
    "## The Original Problem\n",
    "\n",
    "Let's start by solving the original problem, and verify that we get the same solution described in the book.\n",
    "\n",
    "First, we need to correctly model the problem in terms of the value functions and probability distributions.\n",
    "\n",
    "- The possible states are the number of cars at each location, which is no more than 20. That means a total of 21 * 21 = 441 states.\n",
    "- There are at most 6 possible actions from each state (moving up to 5 cars from one location to another). Note that we ignore strictly dominated actions, such as moving 3 cars from location A to location B and 3 cars from location B to location A, which is strictly worse than not moving any cars at all.\n",
    "- The reward per day is the amount earned from rentals minus the cost of moving cars from the night before.\n",
    "\n",
    "We need to know the full probabilty distribution $p(s', r | s, a)$. So for each state-action pair, we need the probability of each state-reward pair.\n",
    "- There are 441 states, each containing at most 6 actions, so there is an upper limit of 441 * 11 = 4851 state-action pairs.\n",
    "- For each state-action pair, we need the probability of any possible target state, reward pair.\n",
    "- This number will start to get large, so we will define a function that, given a state-action pair, will compute a sequence of probability, next state, reward triples.\n",
    "\n"
   ]
  },
  {
   "cell_type": "code",
   "execution_count": 21,
   "id": "c37b93c8",
   "metadata": {},
   "outputs": [],
   "source": [
    "MAX_CARS_PER_LOCATION = 20\n",
    "COST_PER_CAR_MOVED = 2\n",
    "\n",
    "def probs(state, action):\n",
    "    \"\"\"\n",
    "    Given a state-action pair, return a sequence of probability, next state, and reward triples.\n",
    "\n",
    "    State is a tuple containing the the number of cars at the 2 locations.\n",
    "\n",
    "    Action is a scalar indicating the number of cars to move from A to B. If\n",
    "    the action is a negative scalar, that is equivalent to the cars moved from\n",
    "    B to A.\n",
    "    \"\"\"\n",
    "    cars_a, cars_b = state\n",
    "\n",
    "    assert(abs(action) <= 6)\n",
    "    assert(action < 0 or cars_a >= action)\n",
    "    assert(action > 0 or cars_b >= action)\n",
    "\n",
    "    total_reward = abs(action) * COST_PER_CAR_MOVED\n",
    "\n",
    "    # Start by moving cars overnight.\n",
    "    if action > 0:\n",
    "        cars_a -= action\n",
    "        cars_b = min(MAX_CARS_PER_LOCATION, cars_b + action)\n",
    "    else:\n",
    "        cars_b += action\n",
    "        cars_a = min(MAX_CARS_PER_LOCATION, cars_a - action)\n",
    "\n",
    "    # TODO: HERE I AM! \n",
    "\n"
   ]
  },
  {
   "cell_type": "code",
   "execution_count": null,
   "id": "94ff1de2",
   "metadata": {},
   "outputs": [],
   "source": []
  }
 ],
 "metadata": {
  "kernelspec": {
   "display_name": "Python 3.9.11 ('pokemon')",
   "language": "python",
   "name": "python3"
  },
  "language_info": {
   "codemirror_mode": {
    "name": "ipython",
    "version": 3
   },
   "file_extension": ".py",
   "mimetype": "text/x-python",
   "name": "python",
   "nbconvert_exporter": "python",
   "pygments_lexer": "ipython3",
   "version": "3.9.11"
  },
  "vscode": {
   "interpreter": {
    "hash": "a48e6b4bcafa8268e118fccfda0c48a06d8e2caa41bbf9444eeba1b7211069fd"
   }
  }
 },
 "nbformat": 4,
 "nbformat_minor": 5
}
