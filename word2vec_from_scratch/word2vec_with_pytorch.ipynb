{
 "cells": [
  {
   "cell_type": "markdown",
   "metadata": {},
   "source": [
    "## NOTES TO SELF:\n",
    "\n",
    "- Should have a discussion about the difficulty of handling unseen words in\n",
    "  novel situations. Find research papers discussing this.\n",
    "\n",
    "## Resources\n",
    "- [Medium Article](https://towardsdatascience.com/word2vec-with-pytorch-implementing-original-paper-2cd7040120b0)\n",
    "- [Github Project](https://github.com/OlgaChernytska/word2vec-pytorch)\n",
    "- [Visualizing Word Embeddings](https://towardsdatascience.com/visualization-of-word-embedding-vectors-using-gensim-and-pca-8f592a5d3354)\n",
    "\n",
    "\n",
    "\n",
    "## OUTLINE OF FINAL DOC:\n",
    "\n",
    "- Introduction\n",
    "- Data\n",
    "- Data Preparation\n",
    "- Building the Network\n",
    "  - Architecture & Hyperparameters\n",
    "- Validating the Performance\n",
    "- References"
   ]
  },
  {
   "cell_type": "code",
   "execution_count": 1,
   "metadata": {},
   "outputs": [],
   "source": [
    "import json\n",
    "import matplotlib.pyplot as plt\n",
    "import numpy as np\n",
    "import os\n",
    "import pandas as pd\n",
    "import torch\n",
    "import torch.nn as nn\n",
    "import torch.optim as optim\n",
    "\n",
    "from collections import Counter\n",
    "from functools import partial\n",
    "from nltk.corpus import stopwords\n",
    "from nltk.tokenize import word_tokenize\n",
    "from torch.optim.lr_scheduler import LambdaLR\n",
    "from torch.utils.data import DataLoader\n",
    "from torchtext.data.utils import get_tokenizer\n",
    "from torchtext.vocab import build_vocab_from_iterator\n"
   ]
  },
  {
   "cell_type": "code",
   "execution_count": 2,
   "metadata": {},
   "outputs": [],
   "source": [
    "# NOTE: If running this locally in an environment that has not yet setup nltk,\n",
    "# need to run this code here.\n",
    "# import nltk\n",
    "# nltk.download('punkt')\n",
    "# nltk.download('stopwords')"
   ]
  },
  {
   "cell_type": "code",
   "execution_count": 3,
   "metadata": {},
   "outputs": [
    {
     "data": {
      "text/plain": [
       "((34886, 8),\n",
       " Index(['Release Year', 'Title', 'Origin/Ethnicity', 'Director', 'Cast',\n",
       "        'Genre', 'Wiki Page', 'Plot'],\n",
       "       dtype='object'))"
      ]
     },
     "execution_count": 3,
     "metadata": {},
     "output_type": "execute_result"
    }
   ],
   "source": [
    "\n",
    "# Step 0: How big is this dataset? How big is this corpus?\n",
    "\n",
    "data = pd.read_csv('./wiki_movie_plots_deduped.csv')\n",
    "\n",
    "data.shape, data.columns"
   ]
  },
  {
   "cell_type": "markdown",
   "metadata": {},
   "source": [
    "## PyTorch Pre-Processor / Tokenizer"
   ]
  },
  {
   "cell_type": "code",
   "execution_count": 4,
   "metadata": {},
   "outputs": [],
   "source": [
    "train_mask = np.random.rand(len(data)) < 0.8\n",
    "train_data = data[train_mask][\"Plot\"]\n",
    "val_data = data[~train_mask][\"Plot\"]\n"
   ]
  },
  {
   "cell_type": "code",
   "execution_count": 5,
   "metadata": {},
   "outputs": [],
   "source": [
    "CBOW_N_WORDS = 4\n",
    "MAX_SEQUENCE_LENGTH = 256\n",
    "\n",
    "def collate_cbow(batch, text_pipeline):\n",
    "    batch_input = []\n",
    "    batch_output = []\n",
    "\n",
    "    for text in batch:\n",
    "        text_tokens_ids = text_pipeline(text)\n",
    "\n",
    "        if len(text_tokens_ids) < CBOW_N_WORDS * 2 + 1:\n",
    "            continue\n",
    "\n",
    "        if MAX_SEQUENCE_LENGTH:\n",
    "            text_tokens_ids = text_tokens_ids[:MAX_SEQUENCE_LENGTH]\n",
    "\n",
    "        for idx in range(len(text_tokens_ids) - CBOW_N_WORDS * 2):\n",
    "            token_id_sequence = text_tokens_ids[idx : (idx + CBOW_N_WORDS * 2 + 1)]\n",
    "            # Pop the word in the middle of the sequence.\n",
    "            output = token_id_sequence.pop(CBOW_N_WORDS)\n",
    "            input_ = token_id_sequence\n",
    "            batch_input.append(input_)\n",
    "            batch_output.append(output)\n",
    "\n",
    "    batch_input = torch.tensor(batch_input, dtype=torch.long)\n",
    "    batch_output = torch.tensor(batch_output, dtype=torch.long)\n",
    "\n",
    "    return batch_input, batch_output\n",
    "\n"
   ]
  },
  {
   "cell_type": "code",
   "execution_count": 6,
   "metadata": {},
   "outputs": [],
   "source": [
    "def build_dataloader(data_iter, batch_size, vocab = None):\n",
    "    MIN_WORD_FREQUENCY=10\n",
    "\n",
    "    tokenizer = get_tokenizer(\"basic_english\", language=\"en\")\n",
    "\n",
    "    token_lists = map(tokenizer, data_iter)\n",
    "    word_counts = Counter()\n",
    "\n",
    "    if vocab is None:\n",
    "        vocab = build_vocab_from_iterator(\n",
    "            map(tokenizer, data_iter),\n",
    "            specials=[\"<unk>\"],\n",
    "            min_freq=MIN_WORD_FREQUENCY\n",
    "        )\n",
    "\n",
    "        vocab.set_default_index(vocab[\"<unk>\"])\n",
    "\n",
    "    for tokens in token_lists:\n",
    "        for token in tokens:\n",
    "            word_counts[token] += 1\n",
    "\n",
    "    def text_pipeline(x):\n",
    "        return vocab(tokenizer(x))\n",
    "\n",
    "    dataloader = DataLoader(\n",
    "        data_iter,\n",
    "        batch_size=batch_size,\n",
    "        shuffle=True,\n",
    "        collate_fn=partial(collate_cbow, text_pipeline=text_pipeline)\n",
    "    )\n",
    "\n",
    "    return dataloader, word_counts, vocab\n",
    "\n"
   ]
  },
  {
   "cell_type": "code",
   "execution_count": 7,
   "metadata": {},
   "outputs": [],
   "source": [
    "\n",
    "EMBED_MAX_NORM = 1\n",
    "\n",
    "class CBOWModel(nn.Module):\n",
    "    def __init__(self, vocab_size: int, embedding_dim: int):\n",
    "        super(CBOWModel, self).__init__()\n",
    "\n",
    "        self.embeddings = nn.Embedding(\n",
    "            num_embeddings=vocab_size,\n",
    "            embedding_dim=embedding_dim,\n",
    "            max_norm=EMBED_MAX_NORM\n",
    "        )\n",
    "\n",
    "        self.linear = nn.Linear(\n",
    "            in_features=embedding_dim,\n",
    "            out_features=vocab_size\n",
    "        )\n",
    "\n",
    "\n",
    "    def forward(self, inputs_):\n",
    "        x = self.embeddings(inputs_)\n",
    "        x = x.mean(axis=1)\n",
    "        x = self.linear(x)\n",
    "        return x\n",
    "\n"
   ]
  },
  {
   "cell_type": "code",
   "execution_count": 8,
   "metadata": {},
   "outputs": [],
   "source": [
    "BATCH_SIZE=50\n",
    "\n",
    "train_dataloader, train_word_counts, vocab = build_dataloader(\n",
    "    data_iter=train_data.values,\n",
    "    batch_size=BATCH_SIZE\n",
    ")\n",
    "\n",
    "val_dataloader, val_word_counts, _ = build_dataloader(\n",
    "    data_iter=val_data.values,\n",
    "    batch_size=BATCH_SIZE,\n",
    "    vocab=vocab\n",
    ")\n"
   ]
  },
  {
   "cell_type": "code",
   "execution_count": 25,
   "metadata": {},
   "outputs": [],
   "source": [
    "\n",
    "# Code taken from here:\n",
    "# https://github.com/OlgaChernytska/word2vec-pytorch/blob/main/utils/trainer.py\n",
    "\n",
    "class Trainer:\n",
    "    def __init__(\n",
    "        self,\n",
    "        model,\n",
    "        epochs,\n",
    "        train_dataloader,\n",
    "        train_steps,\n",
    "        val_dataloader,\n",
    "        val_steps,\n",
    "        criterion,\n",
    "        optimizer,\n",
    "        lr_scheduler\n",
    "    ):\n",
    "        self.model = model\n",
    "        self.epochs = epochs\n",
    "        self.train_dataloader = train_dataloader\n",
    "        self.train_steps = train_steps\n",
    "        self.val_dataloader = val_dataloader\n",
    "        self.val_steps = val_steps\n",
    "        self.criterion = criterion\n",
    "        self.optimizer = optimizer\n",
    "        self.lr_scheduler = lr_scheduler\n",
    "\n",
    "        self.loss = {\"train\": [], \"val\": []}\n",
    "\n",
    "\n",
    "    def train(self):\n",
    "        for epoch in range(self.epochs):\n",
    "            self._train_epoch()\n",
    "            self._validate_epoch()\n",
    "\n",
    "            print(\n",
    "                \"Epoch: {}/{}, Train Loss={:.5f}, Val Loss={:.5f}\".format(\n",
    "                    epoch + 1,\n",
    "                    self.epochs,\n",
    "                    self.loss[\"train\"][-1],\n",
    "                    self.loss[\"val\"][-1]\n",
    "                )\n",
    "            )\n",
    "\n",
    "            if self.lr_scheduler is not None:\n",
    "                self.lr_scheduler.step()\n",
    "\n",
    "    \n",
    "    def _train_epoch(self):\n",
    "        self.model.train()\n",
    "\n",
    "        running_loss = []\n",
    "\n",
    "        for i, batch_data in enumerate(self.train_dataloader, 1):\n",
    "            inputs = batch_data[0]\n",
    "            labels = batch_data[1]\n",
    "\n",
    "            self.optimizer.zero_grad()\n",
    "            outputs = self.model(inputs)\n",
    "            loss = self.criterion(outputs, labels)\n",
    "            loss.backward()\n",
    "            self.optimizer.step()\n",
    "\n",
    "            running_loss.append(loss.item())\n",
    "\n",
    "            if i == self.train_steps:\n",
    "                break\n",
    "\n",
    "        epoch_loss = np.mean(running_loss)\n",
    "        self.loss[\"train\"].append(epoch_loss)\n",
    "\n",
    "    def _validate_epoch(self):\n",
    "        self.model.eval()\n",
    "        running_loss = []\n",
    "\n",
    "        with torch.no_grad():\n",
    "            for i, batch_data in enumerate(self.val_dataloader, 1):\n",
    "                inputs = batch_data[0]\n",
    "                labels = batch_data[1]\n",
    "\n",
    "                outputs = self.model(inputs)\n",
    "                loss = self.criterion(outputs, labels)\n",
    "\n",
    "                running_loss.append(loss.item())\n",
    "\n",
    "                if i == self.val_steps:\n",
    "                    break\n",
    "\n",
    "        epoch_loss = np.mean(running_loss)\n",
    "        self.loss[\"val\"].append(epoch_loss)\n",
    "        "
   ]
  },
  {
   "cell_type": "code",
   "execution_count": 26,
   "metadata": {},
   "outputs": [],
   "source": [
    "MODEL_PATH = os.path.join('outputs', 'model.pt')\n",
    "LOSS_PATH = os.path.join('outputs', 'loss.json')\n",
    "\n",
    "def save_model(model):\n",
    "    torch.save(model, MODEL_PATH)\n",
    "\n",
    "\n",
    "def load_model():\n",
    "    return torch.load(MODEL_PATH)\n",
    "\n",
    "\n",
    "def save_loss(loss):\n",
    "    with open(LOSS_PATH, 'w') as fp:\n",
    "        json.dump(loss, fp)\n",
    "\n",
    "\n",
    "def load_loss():\n",
    "    with open(LOSS_PATH) as fp:\n",
    "        loss = json.load(fp)\n",
    "\n",
    "    return loss\n"
   ]
  },
  {
   "cell_type": "code",
   "execution_count": null,
   "metadata": {},
   "outputs": [
    {
     "name": "stdout",
     "output_type": "stream",
     "text": [
      "Adjusting learning rate of group 0 to 5.0000e-02.\n",
      "Epoch: 1/50, Train Loss=8.43933, Val Loss=7.09865\n",
      "Adjusting learning rate of group 0 to 4.9000e-02.\n",
      "Epoch: 2/50, Train Loss=7.00528, Val Loss=6.80250\n",
      "Adjusting learning rate of group 0 to 4.8000e-02.\n",
      "Epoch: 3/50, Train Loss=6.79649, Val Loss=6.68841\n",
      "Adjusting learning rate of group 0 to 4.7000e-02.\n",
      "Epoch: 4/50, Train Loss=6.67614, Val Loss=6.54879\n",
      "Adjusting learning rate of group 0 to 4.6000e-02.\n",
      "Epoch: 5/50, Train Loss=6.63726, Val Loss=6.50792\n",
      "Adjusting learning rate of group 0 to 4.5000e-02.\n",
      "Epoch: 6/50, Train Loss=6.53190, Val Loss=6.45505\n",
      "Adjusting learning rate of group 0 to 4.4000e-02.\n",
      "Epoch: 7/50, Train Loss=6.50351, Val Loss=6.38956\n",
      "Adjusting learning rate of group 0 to 4.3000e-02.\n",
      "Epoch: 8/50, Train Loss=6.40854, Val Loss=6.34789\n",
      "Adjusting learning rate of group 0 to 4.2000e-02.\n",
      "Epoch: 9/50, Train Loss=6.38465, Val Loss=6.34859\n",
      "Adjusting learning rate of group 0 to 4.1000e-02.\n",
      "Epoch: 10/50, Train Loss=6.38135, Val Loss=6.32062\n",
      "Adjusting learning rate of group 0 to 4.0000e-02.\n",
      "Epoch: 11/50, Train Loss=6.30889, Val Loss=6.26932\n",
      "Adjusting learning rate of group 0 to 3.9000e-02.\n",
      "Epoch: 12/50, Train Loss=6.29262, Val Loss=6.23187\n",
      "Adjusting learning rate of group 0 to 3.8000e-02.\n",
      "Epoch: 13/50, Train Loss=6.27580, Val Loss=6.18710\n",
      "Adjusting learning rate of group 0 to 3.7000e-02.\n",
      "Epoch: 14/50, Train Loss=6.21757, Val Loss=6.17515\n",
      "Adjusting learning rate of group 0 to 3.6000e-02.\n",
      "Epoch: 15/50, Train Loss=6.20341, Val Loss=6.14500\n",
      "Adjusting learning rate of group 0 to 3.5000e-02.\n",
      "Epoch: 16/50, Train Loss=6.16154, Val Loss=6.15950\n",
      "Adjusting learning rate of group 0 to 3.4000e-02.\n",
      "Epoch: 17/50, Train Loss=6.18199, Val Loss=6.10630\n",
      "Adjusting learning rate of group 0 to 3.3000e-02.\n",
      "Epoch: 18/50, Train Loss=6.15935, Val Loss=6.09505\n",
      "Adjusting learning rate of group 0 to 3.2000e-02.\n",
      "Epoch: 19/50, Train Loss=6.14623, Val Loss=6.11048\n",
      "Adjusting learning rate of group 0 to 3.1000e-02.\n",
      "Epoch: 20/50, Train Loss=6.11789, Val Loss=6.08213\n",
      "Adjusting learning rate of group 0 to 3.0000e-02.\n",
      "Epoch: 21/50, Train Loss=6.09547, Val Loss=6.07074\n",
      "Adjusting learning rate of group 0 to 2.9000e-02.\n",
      "Epoch: 22/50, Train Loss=6.07149, Val Loss=6.06370\n",
      "Adjusting learning rate of group 0 to 2.8000e-02.\n",
      "Epoch: 23/50, Train Loss=6.08175, Val Loss=6.01264\n",
      "Adjusting learning rate of group 0 to 2.7000e-02.\n",
      "Epoch: 24/50, Train Loss=6.06623, Val Loss=6.01382\n",
      "Adjusting learning rate of group 0 to 2.6000e-02.\n",
      "Epoch: 25/50, Train Loss=6.04358, Val Loss=5.98038\n",
      "Adjusting learning rate of group 0 to 2.5000e-02.\n",
      "Epoch: 26/50, Train Loss=6.03345, Val Loss=6.00398\n",
      "Adjusting learning rate of group 0 to 2.4000e-02.\n",
      "Epoch: 27/50, Train Loss=6.00589, Val Loss=5.99985\n",
      "Adjusting learning rate of group 0 to 2.3000e-02.\n",
      "Epoch: 28/50, Train Loss=5.97602, Val Loss=5.98091\n",
      "Adjusting learning rate of group 0 to 2.2000e-02.\n",
      "Epoch: 29/50, Train Loss=5.97227, Val Loss=5.92843\n",
      "Adjusting learning rate of group 0 to 2.1000e-02.\n",
      "Epoch: 30/50, Train Loss=5.95579, Val Loss=5.96474\n",
      "Adjusting learning rate of group 0 to 2.0000e-02.\n",
      "Epoch: 31/50, Train Loss=5.94843, Val Loss=5.92517\n",
      "Adjusting learning rate of group 0 to 1.9000e-02.\n",
      "Epoch: 32/50, Train Loss=5.93537, Val Loss=5.89267\n",
      "Adjusting learning rate of group 0 to 1.8000e-02.\n",
      "Epoch: 33/50, Train Loss=5.91520, Val Loss=5.89312\n",
      "Adjusting learning rate of group 0 to 1.7000e-02.\n",
      "Epoch: 34/50, Train Loss=5.92306, Val Loss=5.89487\n",
      "Adjusting learning rate of group 0 to 1.6000e-02.\n",
      "Epoch: 35/50, Train Loss=5.89323, Val Loss=5.92440\n",
      "Adjusting learning rate of group 0 to 1.5000e-02.\n",
      "Epoch: 36/50, Train Loss=5.89730, Val Loss=5.90334\n",
      "Adjusting learning rate of group 0 to 1.4000e-02.\n",
      "Epoch: 37/50, Train Loss=5.86822, Val Loss=5.85198\n",
      "Adjusting learning rate of group 0 to 1.3000e-02.\n",
      "Epoch: 38/50, Train Loss=5.85443, Val Loss=5.87329\n",
      "Adjusting learning rate of group 0 to 1.2000e-02.\n",
      "Epoch: 39/50, Train Loss=5.85940, Val Loss=5.84278\n",
      "Adjusting learning rate of group 0 to 1.1000e-02.\n",
      "Epoch: 40/50, Train Loss=5.82925, Val Loss=5.84086\n",
      "Adjusting learning rate of group 0 to 1.0000e-02.\n",
      "Epoch: 41/50, Train Loss=5.83988, Val Loss=5.82783\n",
      "Adjusting learning rate of group 0 to 9.0000e-03.\n",
      "Epoch: 42/50, Train Loss=5.78894, Val Loss=5.83464\n",
      "Adjusting learning rate of group 0 to 8.0000e-03.\n",
      "Epoch: 43/50, Train Loss=5.76776, Val Loss=5.80738\n",
      "Adjusting learning rate of group 0 to 7.0000e-03.\n",
      "Epoch: 44/50, Train Loss=5.79135, Val Loss=5.76952\n",
      "Adjusting learning rate of group 0 to 6.0000e-03.\n",
      "Epoch: 45/50, Train Loss=5.73920, Val Loss=5.76606\n",
      "Adjusting learning rate of group 0 to 5.0000e-03.\n"
     ]
    }
   ],
   "source": [
    "EPOCHS=50\n",
    "LR=0.05\n",
    "\n",
    "model = CBOWModel(vocab_size=len(vocab), embedding_dim=300)\n",
    "\n",
    "criterion = nn.CrossEntropyLoss()\n",
    "optimizer = optim.Adam(model.parameters(), lr=LR)\n",
    "\n",
    "lr_lambda = lambda epoch: (EPOCHS - epoch) / EPOCHS\n",
    "lr_scheduler = LambdaLR(optimizer, lr_lambda=lr_lambda, verbose=True)\n",
    "\n",
    "trainer = Trainer(\n",
    "    model=model,\n",
    "    epochs=EPOCHS,\n",
    "    train_dataloader=train_dataloader,\n",
    "    train_steps=10,\n",
    "    val_dataloader=val_dataloader,\n",
    "    val_steps=10,\n",
    "    criterion=criterion,\n",
    "    optimizer=optimizer,\n",
    "    lr_scheduler=lr_scheduler\n",
    ")\n",
    "\n",
    "trainer.train()\n",
    "loss = trainer.loss\n",
    "print(\"Training finished\")\n",
    "\n",
    "save_model(model)\n",
    "save_loss(trainer.loss)\n",
    "print(\"Data Saved\")\n",
    "\n",
    "    "
   ]
  },
  {
   "cell_type": "code",
   "execution_count": 24,
   "metadata": {},
   "outputs": [
    {
     "ename": "AssertionError",
     "evalue": "Vocab is incompatible with the model being loaded.",
     "output_type": "error",
     "traceback": [
      "\u001b[0;31m---------------------------------------------------------------------------\u001b[0m",
      "\u001b[0;31mAssertionError\u001b[0m                            Traceback (most recent call last)",
      "\u001b[0;32m/var/folders/0f/t3d0x4q932zfxs33w7p1x5rw0000gn/T/ipykernel_44184/4247884333.py\u001b[0m in \u001b[0;36m<module>\u001b[0;34m\u001b[0m\n\u001b[1;32m      4\u001b[0m \u001b[0;31m# Verify that the model loaded is compatible with the current vocabulary.\u001b[0m\u001b[0;34m\u001b[0m\u001b[0;34m\u001b[0m\u001b[0m\n\u001b[1;32m      5\u001b[0m \u001b[0;31m# len(vocab)\u001b[0m\u001b[0;34m\u001b[0m\u001b[0;34m\u001b[0m\u001b[0m\n\u001b[0;32m----> 6\u001b[0;31m \u001b[0;32massert\u001b[0m \u001b[0mlen\u001b[0m\u001b[0;34m(\u001b[0m\u001b[0mvocab\u001b[0m\u001b[0;34m)\u001b[0m \u001b[0;34m==\u001b[0m \u001b[0mmodel\u001b[0m\u001b[0;34m.\u001b[0m\u001b[0membeddings\u001b[0m\u001b[0;34m.\u001b[0m\u001b[0mnum_embeddings\u001b[0m\u001b[0;34m,\u001b[0m \u001b[0;34m\"Vocab is incompatible with the model being loaded.\"\u001b[0m\u001b[0;34m\u001b[0m\u001b[0;34m\u001b[0m\u001b[0m\n\u001b[0m",
      "\u001b[0;31mAssertionError\u001b[0m: Vocab is incompatible with the model being loaded."
     ]
    }
   ],
   "source": [
    "model = load_model()\n",
    "loss = load_loss()\n",
    "\n",
    "# Verify that the model loaded is compatible with the current vocabulary.\n",
    "# len(vocab)\n",
    "assert len(vocab) == model.embeddings.num_embeddings, \"Vocab is incompatible with the model being loaded.\"\n"
   ]
  },
  {
   "cell_type": "code",
   "execution_count": 12,
   "metadata": {},
   "outputs": [
    {
     "data": {
      "image/png": "[encoded data removed]",
      "text/plain": [
       "<Figure size 640x480 with 1 Axes>"
      ]
     },
     "metadata": {},
     "output_type": "display_data"
    }
   ],
   "source": [
    "plt.plot(loss['train'], label='Train Loss')\n",
    "plt.plot(loss['val'], label='Val Loss')\n",
    "plt.legend()\n",
    "plt.xlabel('Epoch')\n",
    "plt.ylabel('Error')\n",
    "plt.show()"
   ]
  },
  {
   "cell_type": "code",
   "execution_count": null,
   "metadata": {},
   "outputs": [],
   "source": [
    "[x for x in itertools.islice(train_word_counts.most_common(), 10)]\n",
    "stops\n",
    "punc = set([',', '\\'', '.', '-', '!', '?', '-', '(', ')'])\n",
    "\n",
    "COUNT = 20\n",
    "most_common = []\n",
    "\n",
    "for word, count in train_word_counts.most_common():\n",
    "    if word in stops or word in punc:\n",
    "        continue\n",
    "    \n",
    "    most_common.append((word, count))\n",
    "\n",
    "    if len(most_common) >= COUNT:\n",
    "        break\n",
    "\n",
    "most_common\n"
   ]
  },
  {
   "cell_type": "code",
   "execution_count": 13,
   "metadata": {},
   "outputs": [],
   "source": [
    "\n",
    "def k_nearest_words(model, vocab, word, k):\n",
    "    word_index = vocab([word])[0]\n",
    "    num_embeddings = model.embeddings.num_embeddings\n",
    "    word_embedding = model.embeddings(torch.Tensor([word_index]).type(torch.long))\n",
    "\n",
    "    k_closest_indices = []\n",
    "    k_closest_norms = []\n",
    "\n",
    "    for index in range(num_embeddings):\n",
    "        if index == word_index:\n",
    "            continue\n",
    "\n",
    "        compare_embedding = model.embeddings(torch.Tensor([index]).type(torch.long))\n",
    "        diff = compare_embedding - word_embedding\n",
    "        norm = torch.linalg.norm(diff).item()\n",
    "\n",
    "        if len(k_closest_indices) < k:\n",
    "            k_closest_indices.append(index)\n",
    "            k_closest_norms.append(norm)\n",
    "        else:\n",
    "            for i in range(k):\n",
    "                if norm < k_closest_norms[i]:\n",
    "                    k_closest_indices[i] = index\n",
    "                    k_closest_norms[i] = norm\n",
    "                    break\n",
    "\n",
    "    return [vocab.lookup_token(index) for index in k_closest_indices]\n",
    "\n",
    "    "
   ]
  },
  {
   "cell_type": "code",
   "execution_count": 14,
   "metadata": {},
   "outputs": [
    {
     "data": {
      "text/plain": [
       "['family', 'girl', 'war', 'filkins', 'based']"
      ]
     },
     "execution_count": 14,
     "metadata": {},
     "output_type": "execute_result"
    }
   ],
   "source": [
    "for word in most_common:\n",
    "    nearest = k_nearest_words(model, vocab, word, 5)\n",
    "    print(f'{word} -> {nearest}')\n"
   ]
  },
  {
   "cell_type": "code",
   "execution_count": 15,
   "metadata": {},
   "outputs": [
    {
     "ename": "ValueError",
     "evalue": "Shape of passed values is (36274, 300), indices imply (36214, 300)",
     "output_type": "error",
     "traceback": [
      "\u001b[0;31m---------------------------------------------------------------------------\u001b[0m",
      "\u001b[0;31mValueError\u001b[0m                                Traceback (most recent call last)",
      "\u001b[0;32m/var/folders/0f/t3d0x4q932zfxs33w7p1x5rw0000gn/T/ipykernel_44184/3374248982.py\u001b[0m in \u001b[0;36m<module>\u001b[0;34m\u001b[0m\n\u001b[1;32m      4\u001b[0m \u001b[0;34m\u001b[0m\u001b[0m\n\u001b[1;32m      5\u001b[0m \u001b[0membeddings_np\u001b[0m \u001b[0;34m=\u001b[0m \u001b[0mmodel\u001b[0m\u001b[0;34m.\u001b[0m\u001b[0membeddings\u001b[0m\u001b[0;34m.\u001b[0m\u001b[0mweight\u001b[0m\u001b[0;34m.\u001b[0m\u001b[0mdetach\u001b[0m\u001b[0;34m(\u001b[0m\u001b[0;34m)\u001b[0m\u001b[0;34m.\u001b[0m\u001b[0mnumpy\u001b[0m\u001b[0;34m(\u001b[0m\u001b[0;34m)\u001b[0m\u001b[0;34m\u001b[0m\u001b[0;34m\u001b[0m\u001b[0m\n\u001b[0;32m----> 6\u001b[0;31m \u001b[0mdf\u001b[0m \u001b[0;34m=\u001b[0m \u001b[0mpd\u001b[0m\u001b[0;34m.\u001b[0m\u001b[0mDataFrame\u001b[0m\u001b[0;34m(\u001b[0m\u001b[0membeddings_np\u001b[0m\u001b[0;34m,\u001b[0m \u001b[0mindex\u001b[0m\u001b[0;34m=\u001b[0m\u001b[0mvocab\u001b[0m\u001b[0;34m.\u001b[0m\u001b[0mget_itos\u001b[0m\u001b[0;34m(\u001b[0m\u001b[0;34m)\u001b[0m\u001b[0;34m)\u001b[0m\u001b[0;34m\u001b[0m\u001b[0;34m\u001b[0m\u001b[0m\n\u001b[0m\u001b[1;32m      7\u001b[0m \u001b[0;34m\u001b[0m\u001b[0m\n\u001b[1;32m      8\u001b[0m \u001b[0mX_corr\u001b[0m \u001b[0;34m=\u001b[0m \u001b[0mdf\u001b[0m\u001b[0;34m.\u001b[0m\u001b[0mcorr\u001b[0m\u001b[0;34m(\u001b[0m\u001b[0;34m)\u001b[0m\u001b[0;34m\u001b[0m\u001b[0;34m\u001b[0m\u001b[0m\n",
      "\u001b[0;32m~/opt/anaconda3/lib/python3.9/site-packages/pandas/core/frame.py\u001b[0m in \u001b[0;36m__init__\u001b[0;34m(self, data, index, columns, dtype, copy)\u001b[0m\n\u001b[1;32m    692\u001b[0m                 )\n\u001b[1;32m    693\u001b[0m             \u001b[0;32melse\u001b[0m\u001b[0;34m:\u001b[0m\u001b[0;34m\u001b[0m\u001b[0;34m\u001b[0m\u001b[0m\n\u001b[0;32m--> 694\u001b[0;31m                 mgr = ndarray_to_mgr(\n\u001b[0m\u001b[1;32m    695\u001b[0m                     \u001b[0mdata\u001b[0m\u001b[0;34m,\u001b[0m\u001b[0;34m\u001b[0m\u001b[0;34m\u001b[0m\u001b[0m\n\u001b[1;32m    696\u001b[0m                     \u001b[0mindex\u001b[0m\u001b[0;34m,\u001b[0m\u001b[0;34m\u001b[0m\u001b[0;34m\u001b[0m\u001b[0m\n",
      "\u001b[0;32m~/opt/anaconda3/lib/python3.9/site-packages/pandas/core/internals/construction.py\u001b[0m in \u001b[0;36mndarray_to_mgr\u001b[0;34m(values, index, columns, dtype, copy, typ)\u001b[0m\n\u001b[1;32m    349\u001b[0m     )\n\u001b[1;32m    350\u001b[0m \u001b[0;34m\u001b[0m\u001b[0m\n\u001b[0;32m--> 351\u001b[0;31m     \u001b[0m_check_values_indices_shape_match\u001b[0m\u001b[0;34m(\u001b[0m\u001b[0mvalues\u001b[0m\u001b[0;34m,\u001b[0m \u001b[0mindex\u001b[0m\u001b[0;34m,\u001b[0m \u001b[0mcolumns\u001b[0m\u001b[0;34m)\u001b[0m\u001b[0;34m\u001b[0m\u001b[0;34m\u001b[0m\u001b[0m\n\u001b[0m\u001b[1;32m    352\u001b[0m \u001b[0;34m\u001b[0m\u001b[0m\n\u001b[1;32m    353\u001b[0m     \u001b[0;32mif\u001b[0m \u001b[0mtyp\u001b[0m \u001b[0;34m==\u001b[0m \u001b[0;34m\"array\"\u001b[0m\u001b[0;34m:\u001b[0m\u001b[0;34m\u001b[0m\u001b[0;34m\u001b[0m\u001b[0m\n",
      "\u001b[0;32m~/opt/anaconda3/lib/python3.9/site-packages/pandas/core/internals/construction.py\u001b[0m in \u001b[0;36m_check_values_indices_shape_match\u001b[0;34m(values, index, columns)\u001b[0m\n\u001b[1;32m    420\u001b[0m         \u001b[0mpassed\u001b[0m \u001b[0;34m=\u001b[0m \u001b[0mvalues\u001b[0m\u001b[0;34m.\u001b[0m\u001b[0mshape\u001b[0m\u001b[0;34m\u001b[0m\u001b[0;34m\u001b[0m\u001b[0m\n\u001b[1;32m    421\u001b[0m         \u001b[0mimplied\u001b[0m \u001b[0;34m=\u001b[0m \u001b[0;34m(\u001b[0m\u001b[0mlen\u001b[0m\u001b[0;34m(\u001b[0m\u001b[0mindex\u001b[0m\u001b[0;34m)\u001b[0m\u001b[0;34m,\u001b[0m \u001b[0mlen\u001b[0m\u001b[0;34m(\u001b[0m\u001b[0mcolumns\u001b[0m\u001b[0;34m)\u001b[0m\u001b[0;34m)\u001b[0m\u001b[0;34m\u001b[0m\u001b[0;34m\u001b[0m\u001b[0m\n\u001b[0;32m--> 422\u001b[0;31m         \u001b[0;32mraise\u001b[0m \u001b[0mValueError\u001b[0m\u001b[0;34m(\u001b[0m\u001b[0;34mf\"Shape of passed values is {passed}, indices imply {implied}\"\u001b[0m\u001b[0;34m)\u001b[0m\u001b[0;34m\u001b[0m\u001b[0;34m\u001b[0m\u001b[0m\n\u001b[0m\u001b[1;32m    423\u001b[0m \u001b[0;34m\u001b[0m\u001b[0m\n\u001b[1;32m    424\u001b[0m \u001b[0;34m\u001b[0m\u001b[0m\n",
      "\u001b[0;31mValueError\u001b[0m: Shape of passed values is (36274, 300), indices imply (36214, 300)"
     ]
    }
   ],
   "source": [
    "# PCA 2D\n",
    "# Taken from here:\n",
    "# https://towardsdatascience.com/visualization-of-word-embedding-vectors-using-gensim-and-pca-8f592a5d3354\n",
    "\n",
    "embeddings_np = model.embeddings.weight.detach().numpy()\n",
    "df = pd.DataFrame(embeddings_np, index=vocab.get_itos())\n",
    "\n",
    "X_corr = df.corr()\n",
    "values, vectors = np.linalg.eig(X_corr)\n",
    "args = (-values).argsort()\n",
    "values = vectors[args]\n",
    "vectors = vectors[:, args]\n",
    "\n",
    "# Taking first 2 components which explain maximum variance for projecting.\n",
    "new_vectors = vectors[:, :2]\n",
    "\n",
    "# Projecting it onto new dimension with 2 axis\n",
    "neww_X = np.dot(embeddings_np, new_vectors)\n",
    "neww_X\n"
   ]
  },
  {
   "cell_type": "code",
   "execution_count": 182,
   "metadata": {},
   "outputs": [],
   "source": [
    "# Taken from here:\n",
    "# https://towardsdatascience.com/visualization-of-word-embedding-vectors-using-gensim-and-pca-8f592a5d3354\n",
    "\n",
    "def plot_words(words):\n",
    "    stoi = vocab.get_stoi()\n",
    "    indices = [stoi[w] for w in words]\n",
    "\n",
    "    plt.figure(figsize=(13, 7))\n",
    "    plt.scatter(neww_X[indices, 0], neww_X[indices, 1], linewidths=10, color='lightgray')\n",
    "    plt.xlabel(\"PC1\", size=15)\n",
    "    plt.ylabel(\"PC2\", size=15)\n",
    "    plt.title(\"Word Embedding Space\", size=20)\n",
    "\n",
    "    for i, word in enumerate(words):\n",
    "        plt.annotate(word, xy=(neww_X[indices[i], 0], neww_X[indices[i], 1]))\n",
    "    \n",
    "    plt.show()\n"
   ]
  },
  {
   "cell_type": "code",
   "execution_count": 177,
   "metadata": {},
   "outputs": [
    {
     "data": {
      "text/plain": [
       "[14686, 220]"
      ]
     },
     "execution_count": 177,
     "metadata": {},
     "output_type": "execute_result"
    }
   ],
   "source": [
    "[vocab.get_stoi()[w] for w in ['hello', 'world']]"
   ]
  },
  {
   "cell_type": "code",
   "execution_count": null,
   "metadata": {},
   "outputs": [],
   "source": []
  }
 ],
 "metadata": {
  "kernelspec": {
   "display_name": "Python 3 (ipykernel)",
   "language": "python",
   "name": "python3"
  },
  "language_info": {
   "codemirror_mode": {
    "name": "ipython",
    "version": 3
   },
   "file_extension": ".py",
   "mimetype": "text/x-python",
   "name": "python",
   "nbconvert_exporter": "python",
   "pygments_lexer": "ipython3",
   "version": "3.9.13"
  },
  "vscode": {
   "interpreter": {
    "hash": "cccf65b482c5eebf3e49a7a0a074d637febf6085813a60a937c2a8dd7ab3cc10"
   }
  }
 },
 "nbformat": 4,
 "nbformat_minor": 2
}
