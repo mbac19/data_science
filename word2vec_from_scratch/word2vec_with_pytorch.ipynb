{
 "cells": [
  {
   "cell_type": "markdown",
   "metadata": {},
   "source": [
    "## NOTES TO SELF:\n",
    "\n",
    "- Should have a discussion about the difficulty of handling unseen words in\n",
    "  novel situations. Find research papers discussing this.\n",
    "\n",
    "## Resources\n",
    "- [Medium Article](https://towardsdatascience.com/word2vec-with-pytorch-implementing-original-paper-2cd7040120b0)\n",
    "- [Github Project](https://github.com/OlgaChernytska/word2vec-pytorch)\n",
    "- [Visualizing Word Embeddings](https://towardsdatascience.com/visualization-of-word-embedding-vectors-using-gensim-and-pca-8f592a5d3354)\n",
    "\n",
    "\n",
    "\n",
    "## OUTLINE OF FINAL DOC:\n",
    "\n",
    "- Introduction\n",
    "- Data\n",
    "- Data Preparation\n",
    "- Building the Network\n",
    "  - Architecture & Hyperparameters\n",
    "- Validating the Performance\n",
    "- References"
   ]
  },
  {
   "cell_type": "code",
   "execution_count": 38,
   "metadata": {},
   "outputs": [],
   "source": [
    "import json\n",
    "import matplotlib.pyplot as plt\n",
    "import numpy as np\n",
    "import os\n",
    "import pandas as pd\n",
    "import torch\n",
    "import torch.nn as nn\n",
    "import torch.optim as optim\n",
    "\n",
    "from functools import partial\n",
    "from nltk.corpus import stopwords\n",
    "from nltk.tokenize import word_tokenize\n",
    "from torch.optim.lr_scheduler import LambdaLR\n",
    "from torch.utils.data import DataLoader\n",
    "from torchtext.data.utils import get_tokenizer\n",
    "from torchtext.vocab import build_vocab_from_iterator\n"
   ]
  },
  {
   "cell_type": "code",
   "execution_count": 39,
   "metadata": {},
   "outputs": [],
   "source": [
    "# NOTE: If running this locally in an environment that has not yet setup nltk,\n",
    "# need to run this code here.\n",
    "# import nltk\n",
    "# nltk.download('punkt')\n",
    "# nltk.download('stopwords')"
   ]
  },
  {
   "cell_type": "code",
   "execution_count": 40,
   "metadata": {},
   "outputs": [
    {
     "data": {
      "text/plain": [
       "((34886, 8),\n",
       " Index(['Release Year', 'Title', 'Origin/Ethnicity', 'Director', 'Cast',\n",
       "        'Genre', 'Wiki Page', 'Plot'],\n",
       "       dtype='object'))"
      ]
     },
     "execution_count": 40,
     "metadata": {},
     "output_type": "execute_result"
    }
   ],
   "source": [
    "\n",
    "# Step 0: How big is this dataset? How big is this corpus?\n",
    "\n",
    "data = pd.read_csv('./wiki_movie_plots_deduped.csv')\n",
    "\n",
    "data.shape, data.columns"
   ]
  },
  {
   "cell_type": "markdown",
   "metadata": {},
   "source": [
    "## PyTorch Pre-Processor / Tokenizer"
   ]
  },
  {
   "cell_type": "code",
   "execution_count": 41,
   "metadata": {},
   "outputs": [],
   "source": [
    "train_mask = np.random.rand(len(data)) < 0.8\n",
    "train_data = data[train_mask][\"Plot\"]\n",
    "val_data = data[~train_mask][\"Plot\"]\n"
   ]
  },
  {
   "cell_type": "code",
   "execution_count": 42,
   "metadata": {},
   "outputs": [],
   "source": [
    "CBOW_N_WORDS = 4\n",
    "MAX_SEQUENCE_LENGTH = 256\n",
    "\n",
    "def collate_cbow(batch, text_pipeline):\n",
    "    batch_input = []\n",
    "    batch_output = []\n",
    "\n",
    "    for text in batch:\n",
    "        text_tokens_ids = text_pipeline(text)\n",
    "\n",
    "        if len(text_tokens_ids) < CBOW_N_WORDS * 2 + 1:\n",
    "            continue\n",
    "\n",
    "        if MAX_SEQUENCE_LENGTH:\n",
    "            text_tokens_ids = text_tokens_ids[:MAX_SEQUENCE_LENGTH]\n",
    "\n",
    "        for idx in range(len(text_tokens_ids) - CBOW_N_WORDS * 2):\n",
    "            token_id_sequence = text_tokens_ids[idx : (idx + CBOW_N_WORDS * 2 + 1)]\n",
    "            # Pop the word in the middle of the sequence.\n",
    "            output = token_id_sequence.pop(CBOW_N_WORDS)\n",
    "            input_ = token_id_sequence\n",
    "            batch_input.append(input_)\n",
    "            batch_output.append(output)\n",
    "\n",
    "    batch_input = torch.tensor(batch_input, dtype=torch.long)\n",
    "    batch_output = torch.tensor(batch_output, dtype=torch.long)\n",
    "\n",
    "    return batch_input, batch_output\n",
    "\n"
   ]
  },
  {
   "cell_type": "code",
   "execution_count": 48,
   "metadata": {},
   "outputs": [],
   "source": [
    "def build_dataloader(data_iter, batch_size, vocab = None):\n",
    "    MIN_WORD_FREQUENCY=20\n",
    "\n",
    "    tokenizer = get_tokenizer(\"basic_english\", language=\"en\")\n",
    "\n",
    "    if vocab is None:\n",
    "        vocab = build_vocab_from_iterator(\n",
    "            map(tokenizer, data_iter),\n",
    "            specials=[\"<unk>\"],\n",
    "            min_freq=MIN_WORD_FREQUENCY\n",
    "        )\n",
    "\n",
    "        vocab.set_default_index(vocab[\"<unk>\"])\n",
    "\n",
    "    def text_pipeline(x):\n",
    "        return vocab(tokenizer(x))\n",
    "\n",
    "    dataloader = DataLoader(\n",
    "        data_iter,\n",
    "        batch_size=batch_size,\n",
    "        shuffle=True,\n",
    "        collate_fn=partial(collate_cbow, text_pipeline=text_pipeline)\n",
    "    )\n",
    "\n",
    "    return dataloader, vocab\n",
    "\n"
   ]
  },
  {
   "cell_type": "code",
   "execution_count": 49,
   "metadata": {},
   "outputs": [],
   "source": [
    "\n",
    "EMBED_MAX_NORM = 1\n",
    "\n",
    "class CBOWModel(nn.Module):\n",
    "    def __init__(self, vocab_size: int, embedding_dim: int):\n",
    "        super(CBOWModel, self).__init__()\n",
    "\n",
    "        self.embeddings = nn.Embedding(\n",
    "            num_embeddings=vocab_size,\n",
    "            embedding_dim=embedding_dim,\n",
    "            max_norm=EMBED_MAX_NORM\n",
    "        )\n",
    "\n",
    "        self.linear = nn.Linear(\n",
    "            in_features=embedding_dim,\n",
    "            out_features=vocab_size\n",
    "        )\n",
    "\n",
    "\n",
    "    def forward(self, inputs_):\n",
    "        x = self.embeddings(inputs_)\n",
    "        x = x.mean(axis=1)\n",
    "        x = self.linear(x)\n",
    "        return x\n",
    "\n"
   ]
  },
  {
   "cell_type": "code",
   "execution_count": 52,
   "metadata": {},
   "outputs": [],
   "source": [
    "BATCH_SIZE=50\n",
    "\n",
    "train_dataloader, vocab = build_dataloader(\n",
    "    data_iter=train_data.values,\n",
    "    batch_size=BATCH_SIZE\n",
    ")\n",
    "\n",
    "val_dataloader, _ = build_dataloader(\n",
    "    data_iter=val_data.values,\n",
    "    batch_size=BATCH_SIZE,\n",
    "    vocab=vocab\n",
    ")\n"
   ]
  },
  {
   "cell_type": "code",
   "execution_count": 53,
   "metadata": {},
   "outputs": [],
   "source": [
    "\n",
    "# Code taken from here:\n",
    "# https://github.com/OlgaChernytska/word2vec-pytorch/blob/main/utils/trainer.py\n",
    "\n",
    "class Trainer:\n",
    "\n",
    "    def __init__(\n",
    "        self,\n",
    "        model,\n",
    "        epochs,\n",
    "        train_dataloader,\n",
    "        train_steps,\n",
    "        val_dataloader,\n",
    "        val_steps,\n",
    "        criterion,\n",
    "        optimizer,\n",
    "        lr_scheduler\n",
    "    ):\n",
    "        self.model = model\n",
    "        self.epochs = epochs\n",
    "        self.train_dataloader = train_dataloader\n",
    "        self.train_steps = train_steps\n",
    "        self.val_dataloader = val_dataloader\n",
    "        self.val_steps = val_steps\n",
    "        self.criterion = criterion\n",
    "        self.optimizer = optimizer\n",
    "        self.lr_scheduler = lr_scheduler\n",
    "\n",
    "        self.loss = {\"train\": [], \"val\": []}\n",
    "\n",
    "\n",
    "    def train(self):\n",
    "        for epoch in range(self.epochs):\n",
    "            self._train_epoch()\n",
    "            self._validate_epoch()\n",
    "\n",
    "            print(\n",
    "                \"Epoch: {}/{}, Train Loss={:.5f}, Val Loss={:.5f}\".format(\n",
    "                    epoch + 1,\n",
    "                    self.epochs,\n",
    "                    self.loss[\"train\"][-1],\n",
    "                    self.loss[\"val\"][-1]\n",
    "                )\n",
    "            )\n",
    "\n",
    "            if self.lr_scheduler is not None:\n",
    "                self.lr_scheduler.step()\n",
    "\n",
    "    \n",
    "    def _train_epoch(self):\n",
    "        self.model.train()\n",
    "\n",
    "        running_loss = []\n",
    "\n",
    "        for i, batch_data in enumerate(self.train_dataloader, 1):\n",
    "            inputs = batch_data[0]\n",
    "            labels = batch_data[1]\n",
    "\n",
    "            self.optimizer.zero_grad()\n",
    "            outputs = self.model(inputs)\n",
    "            loss = self.criterion(outputs, labels)\n",
    "            loss.backward()\n",
    "            self.optimizer.step()\n",
    "\n",
    "            running_loss.append(loss.item())\n",
    "\n",
    "            if i == self.train_steps:\n",
    "                break\n",
    "\n",
    "        epoch_loss = np.mean(running_loss)\n",
    "        self.loss[\"train\"].append(epoch_loss)\n",
    "\n",
    "    def _validate_epoch(self):\n",
    "        self.model.eval()\n",
    "        running_loss = []\n",
    "\n",
    "        with torch.no_grad():\n",
    "            for i, batch_data in enumerate(self.val_dataloader, 1):\n",
    "                inputs = batch_data[0]\n",
    "                labels = batch_data[1]\n",
    "\n",
    "                outputs = self.model(inputs)\n",
    "                loss = self.criterion(outputs, labels)\n",
    "\n",
    "                running_loss.append(loss.item())\n",
    "\n",
    "                if i == self.val_steps:\n",
    "                    break\n",
    "\n",
    "        epoch_loss = np.mean(running_loss)\n",
    "        self.loss[\"val\"].append(epoch_loss)\n",
    "        "
   ]
  },
  {
   "cell_type": "code",
   "execution_count": 61,
   "metadata": {},
   "outputs": [],
   "source": [
    "MODEL_PATH = os.path.join('outputs', 'model.pt')\n",
    "LOSS_PATH = os.path.join('outputs', 'loss.json')\n",
    "\n",
    "def save_model(model):\n",
    "    torch.save(model, MODEL_PATH)\n",
    "\n",
    "\n",
    "def load_model():\n",
    "    return torch.load(MODEL_PATH)\n",
    "\n",
    "\n",
    "def save_loss(loss):\n",
    "    with open(LOSS_PATH, 'w') as fp:\n",
    "        json.dump(loss, fp)\n",
    "\n",
    "\n",
    "def load_loss():\n",
    "    with open(LOSS_PATH) as fp:\n",
    "        loss = json.load(fp)\n",
    "\n",
    "    return loss\n"
   ]
  },
  {
   "cell_type": "code",
   "execution_count": 54,
   "metadata": {},
   "outputs": [
    {
     "name": "stdout",
     "output_type": "stream",
     "text": [
      "Adjusting learning rate of group 0 to 4.0000e-02.\n",
      "Epoch: 1/20, Train Loss=8.32184, Val Loss=6.78252\n",
      "Adjusting learning rate of group 0 to 3.8000e-02.\n",
      "Epoch: 2/20, Train Loss=6.80534, Val Loss=6.68924\n",
      "Adjusting learning rate of group 0 to 3.6000e-02.\n",
      "Epoch: 3/20, Train Loss=6.63751, Val Loss=6.50991\n",
      "Adjusting learning rate of group 0 to 3.4000e-02.\n",
      "Epoch: 4/20, Train Loss=6.48949, Val Loss=6.43292\n",
      "Adjusting learning rate of group 0 to 3.2000e-02.\n",
      "Epoch: 5/20, Train Loss=6.43081, Val Loss=6.36925\n",
      "Adjusting learning rate of group 0 to 3.0000e-02.\n",
      "Epoch: 6/20, Train Loss=6.37993, Val Loss=6.32676\n",
      "Adjusting learning rate of group 0 to 2.8000e-02.\n",
      "Epoch: 7/20, Train Loss=6.33496, Val Loss=6.26416\n",
      "Adjusting learning rate of group 0 to 2.6000e-02.\n",
      "Epoch: 8/20, Train Loss=6.28175, Val Loss=6.24537\n",
      "Adjusting learning rate of group 0 to 2.4000e-02.\n",
      "Epoch: 9/20, Train Loss=6.24232, Val Loss=6.18982\n",
      "Adjusting learning rate of group 0 to 2.2000e-02.\n",
      "Epoch: 10/20, Train Loss=6.22817, Val Loss=6.15852\n",
      "Adjusting learning rate of group 0 to 2.0000e-02.\n",
      "Epoch: 11/20, Train Loss=6.17998, Val Loss=6.13482\n",
      "Adjusting learning rate of group 0 to 1.8000e-02.\n",
      "Epoch: 12/20, Train Loss=6.15799, Val Loss=6.12191\n",
      "Adjusting learning rate of group 0 to 1.6000e-02.\n",
      "Epoch: 13/20, Train Loss=6.13882, Val Loss=6.07172\n",
      "Adjusting learning rate of group 0 to 1.4000e-02.\n",
      "Epoch: 14/20, Train Loss=6.10612, Val Loss=6.07581\n",
      "Adjusting learning rate of group 0 to 1.2000e-02.\n",
      "Epoch: 15/20, Train Loss=6.08211, Val Loss=6.04713\n",
      "Adjusting learning rate of group 0 to 1.0000e-02.\n",
      "Epoch: 16/20, Train Loss=6.02009, Val Loss=6.00485\n",
      "Adjusting learning rate of group 0 to 8.0000e-03.\n",
      "Epoch: 17/20, Train Loss=6.02026, Val Loss=5.98535\n",
      "Adjusting learning rate of group 0 to 6.0000e-03.\n",
      "Epoch: 18/20, Train Loss=6.00094, Val Loss=5.99587\n",
      "Adjusting learning rate of group 0 to 4.0000e-03.\n",
      "Epoch: 19/20, Train Loss=5.98737, Val Loss=5.99634\n",
      "Adjusting learning rate of group 0 to 2.0000e-03.\n",
      "Epoch: 20/20, Train Loss=5.97690, Val Loss=5.97801\n",
      "Adjusting learning rate of group 0 to 0.0000e+00.\n",
      "Training finished\n"
     ]
    }
   ],
   "source": [
    "EPOCHS=20\n",
    "LR=0.04\n",
    "\n",
    "model = CBOWModel(vocab_size=len(vocab), embedding_dim=300)\n",
    "\n",
    "criterion = nn.CrossEntropyLoss()\n",
    "optimizer = optim.Adam(model.parameters(), lr=LR)\n",
    "\n",
    "lr_lambda = lambda epoch: (EPOCHS - epoch) / EPOCHS\n",
    "lr_scheduler = LambdaLR(optimizer, lr_lambda=lr_lambda, verbose=True)\n",
    "\n",
    "trainer = Trainer(\n",
    "    model=model,\n",
    "    epochs=EPOCHS,\n",
    "    train_dataloader=train_dataloader,\n",
    "    train_steps=10,\n",
    "    val_dataloader=val_dataloader,\n",
    "    val_steps=10,\n",
    "    criterion=criterion,\n",
    "    optimizer=optimizer,\n",
    "    lr_scheduler=lr_scheduler\n",
    ")\n",
    "\n",
    "trainer.train()\n",
    "print(\"Training finished\")\n",
    "\n",
    "save_model(model)\n",
    "save_loss(trainer.loss)\n",
    "print(\"Data Saved\")\n",
    "\n",
    "    "
   ]
  },
  {
   "cell_type": "code",
   "execution_count": 62,
   "metadata": {},
   "outputs": [],
   "source": [
    "save_model(model)\n",
    "save_loss(trainer.loss)"
   ]
  },
  {
   "cell_type": "code",
   "execution_count": 11,
   "metadata": {},
   "outputs": [],
   "source": [
    "# model = load_model()\n",
    "# loss = load_loss()"
   ]
  },
  {
   "cell_type": "code",
   "execution_count": 64,
   "metadata": {},
   "outputs": [
    {
     "data": {
      "image/png": "[encoded data removed]",
      "text/plain": [
       "<Figure size 640x480 with 1 Axes>"
      ]
     },
     "metadata": {},
     "output_type": "display_data"
    }
   ],
   "source": [
    "loss = trainer.loss\n",
    "plt.plot(loss['train'], label='Train Loss')\n",
    "plt.plot(loss['val'], label='Val Loss')\n",
    "plt.legend()\n",
    "plt.xlabel('Epoch')\n",
    "plt.ylabel('Error')\n",
    "plt.show()"
   ]
  },
  {
   "cell_type": "code",
   "execution_count": 65,
   "metadata": {},
   "outputs": [],
   "source": [
    "\n",
    "def k_nearest_words(model, vocab, word, k):\n",
    "    word_index = vocab([word])[0]\n",
    "    num_embeddings = model.embeddings.num_embeddings\n",
    "    word_embedding = model.embeddings(torch.Tensor([word_index]).type(torch.long))\n",
    "\n",
    "    k_closest_indices = []\n",
    "    k_closest_norms = []\n",
    "\n",
    "    for index in range(num_embeddings):\n",
    "        if index is word_index:\n",
    "            continue\n",
    "\n",
    "        compare_embedding = model.embeddings(torch.Tensor([index]).type(torch.long))\n",
    "        diff = compare_embedding - word_embedding\n",
    "        norm = torch.linalg.norm(diff).item()\n",
    "\n",
    "        if len(k_closest_indices) < k:\n",
    "            k_closest_indices.append(index)\n",
    "            k_closest_norms.append(norm)\n",
    "        else:\n",
    "            for i in range(k):\n",
    "                if norm < k_closest_norms[i]:\n",
    "                    k_closest_indices[i] = index\n",
    "                    k_closest_norms[i] = norm\n",
    "                    break\n",
    "\n",
    "    return [vocab.lookup_token(index) for index in k_closest_indices]\n",
    "\n",
    "    "
   ]
  },
  {
   "cell_type": "code",
   "execution_count": 68,
   "metadata": {},
   "outputs": [
    {
     "data": {
      "text/plain": [
       "['horror', 'listening', 'warms', 'pray', 'democracy']"
      ]
     },
     "execution_count": 68,
     "metadata": {},
     "output_type": "execute_result"
    }
   ],
   "source": [
    "k_nearest_words(model, vocab, 'horror', 5)"
   ]
  },
  {
   "cell_type": "code",
   "execution_count": null,
   "metadata": {},
   "outputs": [],
   "source": []
  }
 ],
 "metadata": {
  "kernelspec": {
   "display_name": "Python 3 (ipykernel)",
   "language": "python",
   "name": "python3"
  },
  "language_info": {
   "codemirror_mode": {
    "name": "ipython",
    "version": 3
   },
   "file_extension": ".py",
   "mimetype": "text/x-python",
   "name": "python",
   "nbconvert_exporter": "python",
   "pygments_lexer": "ipython3",
   "version": "3.9.13"
  },
  "vscode": {
   "interpreter": {
    "hash": "cccf65b482c5eebf3e49a7a0a074d637febf6085813a60a937c2a8dd7ab3cc10"
   }
  }
 },
 "nbformat": 4,
 "nbformat_minor": 2
}
